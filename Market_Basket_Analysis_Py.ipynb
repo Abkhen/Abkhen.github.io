{
  "nbformat": 4,
  "nbformat_minor": 0,
  "metadata": {
    "colab": {
      "name": "Market Basket Analysis - Py",
      "provenance": [],
      "authorship_tag": "ABX9TyPPWYyt8mGxdehwjuAbxFSK",
      "include_colab_link": true
    },
    "kernelspec": {
      "name": "python3",
      "display_name": "Python 3"
    }
  },
  "cells": [
    {
      "cell_type": "markdown",
      "metadata": {
        "id": "view-in-github",
        "colab_type": "text"
      },
      "source": [
        "<a href=\"https://colab.research.google.com/github/Abkhen/Abkhen.github.io/blob/master/Market_Basket_Analysis_Py.ipynb\" target=\"_parent\"><img src=\"https://colab.research.google.com/assets/colab-badge.svg\" alt=\"Open In Colab\"/></a>"
      ]
    },
    {
      "cell_type": "markdown",
      "metadata": {
        "id": "kF7UIEmWdEl3",
        "colab_type": "text"
      },
      "source": [
        "\n",
        "Data preparation\n",
        "\n",
        "The first step in any Market Basket Analysis (MBA) project is to determine what constitutes an item, an itemset, and a transaction. This will depend on the dataset we're using and the question we're attempting to answer.\n",
        "\n",
        "    Grocery store\n",
        "        Item: Grocery\n",
        "        Itemset: Collection of groceries\n",
        "        Transaction: Basket of items purchased\n",
        "    Music streaming service\n",
        "        Item: Song\n",
        "        Itemset: Collection of unique songs\n",
        "        Transaction: User song library\n",
        "    Ebook store\n",
        "        Item: Ebook\n",
        "        Itemset: One or more ebooks\n",
        "        Transaction: User ebook library\n",
        "\n",
        "\n",
        "\n",
        "What is an item?\n",
        "\n",
        "    A product purchased from Olist.\n",
        "\n",
        "What is an itemset?\n",
        "\n",
        "    A collection of one or more product(s).\n",
        "\n",
        "What is a transaction?\n",
        "\n",
        "    An itemset that corresponds to a customer's order.\n",
        "\n"
      ]
    },
    {
      "cell_type": "code",
      "metadata": {
        "id": "pYZna7AzeYOS",
        "colab_type": "code",
        "colab": {}
      },
      "source": [
        "# Import modules.\n",
        "import numpy as np\n",
        "import pandas as pd\n",
        "import matplotlib.pyplot as plt\n",
        "import seaborn as sns\n",
        "\n",
        "from mlxtend.frequent_patterns import association_rules\n",
        "from mlxtend.frequent_patterns import apriori\n",
        "from mlxtend.preprocessing import TransactionEncoder\n",
        "\n",
        "# Set default asthetic parameters.\n",
        "sns.set()\n",
        "\n",
        "# Define path to data.\n",
        "data_path = 'https://github.com/datacamp/Market-Basket-Analysis-in-python-live-training/raw/master/data/'\n",
        "\n"
      ],
      "execution_count": 113,
      "outputs": []
    },
    {
      "cell_type": "code",
      "metadata": {
        "id": "nBj9qix-d95d",
        "colab_type": "code",
        "colab": {}
      },
      "source": [
        "# Load orders dataset.\n",
        "orders = pd.read_csv(data_path+'olist_order_items_dataset.csv')\n",
        "\n",
        "# Load products items dataset.\n",
        "products = pd.read_csv(data_path+'olist_products_dataset.csv')\n",
        "\n",
        "# Load translations dataset.\n",
        "translations = pd.read_csv(data_path+'product_category_name_translation.csv')"
      ],
      "execution_count": 114,
      "outputs": []
    },
    {
      "cell_type": "code",
      "metadata": {
        "id": "ujSP0kLOcwd2",
        "colab_type": "code",
        "colab": {
          "base_uri": "https://localhost:8080/",
          "height": 206
        },
        "outputId": "bb817697-2544-4bc0-b58b-885d7a76be44"
      },
      "source": [
        "#Print orders header\n",
        "orders.head()"
      ],
      "execution_count": 115,
      "outputs": [
        {
          "output_type": "execute_result",
          "data": {
            "text/html": [
              "<div>\n",
              "<style scoped>\n",
              "    .dataframe tbody tr th:only-of-type {\n",
              "        vertical-align: middle;\n",
              "    }\n",
              "\n",
              "    .dataframe tbody tr th {\n",
              "        vertical-align: top;\n",
              "    }\n",
              "\n",
              "    .dataframe thead th {\n",
              "        text-align: right;\n",
              "    }\n",
              "</style>\n",
              "<table border=\"1\" class=\"dataframe\">\n",
              "  <thead>\n",
              "    <tr style=\"text-align: right;\">\n",
              "      <th></th>\n",
              "      <th>order_id</th>\n",
              "      <th>order_item_id</th>\n",
              "      <th>product_id</th>\n",
              "      <th>price</th>\n",
              "    </tr>\n",
              "  </thead>\n",
              "  <tbody>\n",
              "    <tr>\n",
              "      <th>0</th>\n",
              "      <td>b8bfa12431142333a0c84802f9529d87</td>\n",
              "      <td>1</td>\n",
              "      <td>765a8070ece0f1383d0f5faf913dfb9b</td>\n",
              "      <td>81.0</td>\n",
              "    </tr>\n",
              "    <tr>\n",
              "      <th>1</th>\n",
              "      <td>b8bfa12431142333a0c84802f9529d87</td>\n",
              "      <td>2</td>\n",
              "      <td>a41e356c76fab66334f36de622ecbd3a</td>\n",
              "      <td>99.3</td>\n",
              "    </tr>\n",
              "    <tr>\n",
              "      <th>2</th>\n",
              "      <td>b8bfa12431142333a0c84802f9529d87</td>\n",
              "      <td>3</td>\n",
              "      <td>765a8070ece0f1383d0f5faf913dfb9b</td>\n",
              "      <td>81.0</td>\n",
              "    </tr>\n",
              "    <tr>\n",
              "      <th>3</th>\n",
              "      <td>00010242fe8c5a6d1ba2dd792cb16214</td>\n",
              "      <td>1</td>\n",
              "      <td>4244733e06e7ecb4970a6e2683c13e61</td>\n",
              "      <td>58.9</td>\n",
              "    </tr>\n",
              "    <tr>\n",
              "      <th>4</th>\n",
              "      <td>00018f77f2f0320c557190d7a144bdd3</td>\n",
              "      <td>1</td>\n",
              "      <td>e5f2d52b802189ee658865ca93d83a8f</td>\n",
              "      <td>239.9</td>\n",
              "    </tr>\n",
              "  </tbody>\n",
              "</table>\n",
              "</div>"
            ],
            "text/plain": [
              "                           order_id  ...  price\n",
              "0  b8bfa12431142333a0c84802f9529d87  ...   81.0\n",
              "1  b8bfa12431142333a0c84802f9529d87  ...   99.3\n",
              "2  b8bfa12431142333a0c84802f9529d87  ...   81.0\n",
              "3  00010242fe8c5a6d1ba2dd792cb16214  ...   58.9\n",
              "4  00018f77f2f0320c557190d7a144bdd3  ...  239.9\n",
              "\n",
              "[5 rows x 4 columns]"
            ]
          },
          "metadata": {
            "tags": []
          },
          "execution_count": 115
        }
      ]
    },
    {
      "cell_type": "code",
      "metadata": {
        "id": "Brw_IJBWeb_b",
        "colab_type": "code",
        "colab": {
          "base_uri": "https://localhost:8080/",
          "height": 491
        },
        "outputId": "a696c059-718c-4d61-c9ab-21e48901f7a7"
      },
      "source": [
        "#Print orders info\n",
        "orders.info()\n",
        "\n",
        "#print description\n",
        "orders.describe()"
      ],
      "execution_count": 116,
      "outputs": [
        {
          "output_type": "stream",
          "text": [
            "<class 'pandas.core.frame.DataFrame'>\n",
            "RangeIndex: 112650 entries, 0 to 112649\n",
            "Data columns (total 4 columns):\n",
            " #   Column         Non-Null Count   Dtype  \n",
            "---  ------         --------------   -----  \n",
            " 0   order_id       112650 non-null  object \n",
            " 1   order_item_id  112650 non-null  int64  \n",
            " 2   product_id     112650 non-null  object \n",
            " 3   price          112650 non-null  float64\n",
            "dtypes: float64(1), int64(1), object(2)\n",
            "memory usage: 3.4+ MB\n"
          ],
          "name": "stdout"
        },
        {
          "output_type": "execute_result",
          "data": {
            "text/html": [
              "<div>\n",
              "<style scoped>\n",
              "    .dataframe tbody tr th:only-of-type {\n",
              "        vertical-align: middle;\n",
              "    }\n",
              "\n",
              "    .dataframe tbody tr th {\n",
              "        vertical-align: top;\n",
              "    }\n",
              "\n",
              "    .dataframe thead th {\n",
              "        text-align: right;\n",
              "    }\n",
              "</style>\n",
              "<table border=\"1\" class=\"dataframe\">\n",
              "  <thead>\n",
              "    <tr style=\"text-align: right;\">\n",
              "      <th></th>\n",
              "      <th>order_item_id</th>\n",
              "      <th>price</th>\n",
              "    </tr>\n",
              "  </thead>\n",
              "  <tbody>\n",
              "    <tr>\n",
              "      <th>count</th>\n",
              "      <td>112650.000000</td>\n",
              "      <td>112650.000000</td>\n",
              "    </tr>\n",
              "    <tr>\n",
              "      <th>mean</th>\n",
              "      <td>1.197834</td>\n",
              "      <td>120.653739</td>\n",
              "    </tr>\n",
              "    <tr>\n",
              "      <th>std</th>\n",
              "      <td>0.705124</td>\n",
              "      <td>183.633928</td>\n",
              "    </tr>\n",
              "    <tr>\n",
              "      <th>min</th>\n",
              "      <td>1.000000</td>\n",
              "      <td>0.850000</td>\n",
              "    </tr>\n",
              "    <tr>\n",
              "      <th>25%</th>\n",
              "      <td>1.000000</td>\n",
              "      <td>39.900000</td>\n",
              "    </tr>\n",
              "    <tr>\n",
              "      <th>50%</th>\n",
              "      <td>1.000000</td>\n",
              "      <td>74.990000</td>\n",
              "    </tr>\n",
              "    <tr>\n",
              "      <th>75%</th>\n",
              "      <td>1.000000</td>\n",
              "      <td>134.900000</td>\n",
              "    </tr>\n",
              "    <tr>\n",
              "      <th>max</th>\n",
              "      <td>21.000000</td>\n",
              "      <td>6735.000000</td>\n",
              "    </tr>\n",
              "  </tbody>\n",
              "</table>\n",
              "</div>"
            ],
            "text/plain": [
              "       order_item_id          price\n",
              "count  112650.000000  112650.000000\n",
              "mean        1.197834     120.653739\n",
              "std         0.705124     183.633928\n",
              "min         1.000000       0.850000\n",
              "25%         1.000000      39.900000\n",
              "50%         1.000000      74.990000\n",
              "75%         1.000000     134.900000\n",
              "max        21.000000    6735.000000"
            ]
          },
          "metadata": {
            "tags": []
          },
          "execution_count": 116
        }
      ]
    },
    {
      "cell_type": "code",
      "metadata": {
        "id": "tTID0dUMc2G4",
        "colab_type": "code",
        "colab": {
          "base_uri": "https://localhost:8080/",
          "height": 206
        },
        "outputId": "95e4e849-68bd-4ee5-c23d-ebf6ee632c95"
      },
      "source": [
        "#Print orders header\n",
        "products.head()"
      ],
      "execution_count": 117,
      "outputs": [
        {
          "output_type": "execute_result",
          "data": {
            "text/html": [
              "<div>\n",
              "<style scoped>\n",
              "    .dataframe tbody tr th:only-of-type {\n",
              "        vertical-align: middle;\n",
              "    }\n",
              "\n",
              "    .dataframe tbody tr th {\n",
              "        vertical-align: top;\n",
              "    }\n",
              "\n",
              "    .dataframe thead th {\n",
              "        text-align: right;\n",
              "    }\n",
              "</style>\n",
              "<table border=\"1\" class=\"dataframe\">\n",
              "  <thead>\n",
              "    <tr style=\"text-align: right;\">\n",
              "      <th></th>\n",
              "      <th>product_id</th>\n",
              "      <th>product_category_name</th>\n",
              "      <th>product_weight_g</th>\n",
              "      <th>product_length_cm</th>\n",
              "      <th>product_height_cm</th>\n",
              "      <th>product_width_cm</th>\n",
              "    </tr>\n",
              "  </thead>\n",
              "  <tbody>\n",
              "    <tr>\n",
              "      <th>0</th>\n",
              "      <td>1e9e8ef04dbcff4541ed26657ea517e5</td>\n",
              "      <td>perfumaria</td>\n",
              "      <td>225.0</td>\n",
              "      <td>16.0</td>\n",
              "      <td>10.0</td>\n",
              "      <td>14.0</td>\n",
              "    </tr>\n",
              "    <tr>\n",
              "      <th>1</th>\n",
              "      <td>3aa071139cb16b67ca9e5dea641aaa2f</td>\n",
              "      <td>artes</td>\n",
              "      <td>1000.0</td>\n",
              "      <td>30.0</td>\n",
              "      <td>18.0</td>\n",
              "      <td>20.0</td>\n",
              "    </tr>\n",
              "    <tr>\n",
              "      <th>2</th>\n",
              "      <td>96bd76ec8810374ed1b65e291975717f</td>\n",
              "      <td>esporte_lazer</td>\n",
              "      <td>154.0</td>\n",
              "      <td>18.0</td>\n",
              "      <td>9.0</td>\n",
              "      <td>15.0</td>\n",
              "    </tr>\n",
              "    <tr>\n",
              "      <th>3</th>\n",
              "      <td>cef67bcfe19066a932b7673e239eb23d</td>\n",
              "      <td>bebes</td>\n",
              "      <td>371.0</td>\n",
              "      <td>26.0</td>\n",
              "      <td>4.0</td>\n",
              "      <td>26.0</td>\n",
              "    </tr>\n",
              "    <tr>\n",
              "      <th>4</th>\n",
              "      <td>9dc1a7de274444849c219cff195d0b71</td>\n",
              "      <td>utilidades_domesticas</td>\n",
              "      <td>625.0</td>\n",
              "      <td>20.0</td>\n",
              "      <td>17.0</td>\n",
              "      <td>13.0</td>\n",
              "    </tr>\n",
              "  </tbody>\n",
              "</table>\n",
              "</div>"
            ],
            "text/plain": [
              "                         product_id  ... product_width_cm\n",
              "0  1e9e8ef04dbcff4541ed26657ea517e5  ...             14.0\n",
              "1  3aa071139cb16b67ca9e5dea641aaa2f  ...             20.0\n",
              "2  96bd76ec8810374ed1b65e291975717f  ...             15.0\n",
              "3  cef67bcfe19066a932b7673e239eb23d  ...             26.0\n",
              "4  9dc1a7de274444849c219cff195d0b71  ...             13.0\n",
              "\n",
              "[5 rows x 6 columns]"
            ]
          },
          "metadata": {
            "tags": []
          },
          "execution_count": 117
        }
      ]
    },
    {
      "cell_type": "code",
      "metadata": {
        "id": "aNlgG11garu1",
        "colab_type": "code",
        "colab": {
          "base_uri": "https://localhost:8080/",
          "height": 526
        },
        "outputId": "4d938e3f-29af-400c-9ba1-237d6d72f965"
      },
      "source": [
        "#Print orders info\n",
        "products.info()\n",
        "\n",
        "#print description\n",
        "products.describe()"
      ],
      "execution_count": 118,
      "outputs": [
        {
          "output_type": "stream",
          "text": [
            "<class 'pandas.core.frame.DataFrame'>\n",
            "RangeIndex: 32951 entries, 0 to 32950\n",
            "Data columns (total 6 columns):\n",
            " #   Column                 Non-Null Count  Dtype  \n",
            "---  ------                 --------------  -----  \n",
            " 0   product_id             32951 non-null  object \n",
            " 1   product_category_name  32341 non-null  object \n",
            " 2   product_weight_g       32949 non-null  float64\n",
            " 3   product_length_cm      32949 non-null  float64\n",
            " 4   product_height_cm      32949 non-null  float64\n",
            " 5   product_width_cm       32949 non-null  float64\n",
            "dtypes: float64(4), object(2)\n",
            "memory usage: 1.5+ MB\n"
          ],
          "name": "stdout"
        },
        {
          "output_type": "execute_result",
          "data": {
            "text/html": [
              "<div>\n",
              "<style scoped>\n",
              "    .dataframe tbody tr th:only-of-type {\n",
              "        vertical-align: middle;\n",
              "    }\n",
              "\n",
              "    .dataframe tbody tr th {\n",
              "        vertical-align: top;\n",
              "    }\n",
              "\n",
              "    .dataframe thead th {\n",
              "        text-align: right;\n",
              "    }\n",
              "</style>\n",
              "<table border=\"1\" class=\"dataframe\">\n",
              "  <thead>\n",
              "    <tr style=\"text-align: right;\">\n",
              "      <th></th>\n",
              "      <th>product_weight_g</th>\n",
              "      <th>product_length_cm</th>\n",
              "      <th>product_height_cm</th>\n",
              "      <th>product_width_cm</th>\n",
              "    </tr>\n",
              "  </thead>\n",
              "  <tbody>\n",
              "    <tr>\n",
              "      <th>count</th>\n",
              "      <td>32949.000000</td>\n",
              "      <td>32949.000000</td>\n",
              "      <td>32949.000000</td>\n",
              "      <td>32949.000000</td>\n",
              "    </tr>\n",
              "    <tr>\n",
              "      <th>mean</th>\n",
              "      <td>2276.472488</td>\n",
              "      <td>30.815078</td>\n",
              "      <td>16.937661</td>\n",
              "      <td>23.196728</td>\n",
              "    </tr>\n",
              "    <tr>\n",
              "      <th>std</th>\n",
              "      <td>4282.038731</td>\n",
              "      <td>16.914458</td>\n",
              "      <td>13.637554</td>\n",
              "      <td>12.079047</td>\n",
              "    </tr>\n",
              "    <tr>\n",
              "      <th>min</th>\n",
              "      <td>0.000000</td>\n",
              "      <td>7.000000</td>\n",
              "      <td>2.000000</td>\n",
              "      <td>6.000000</td>\n",
              "    </tr>\n",
              "    <tr>\n",
              "      <th>25%</th>\n",
              "      <td>300.000000</td>\n",
              "      <td>18.000000</td>\n",
              "      <td>8.000000</td>\n",
              "      <td>15.000000</td>\n",
              "    </tr>\n",
              "    <tr>\n",
              "      <th>50%</th>\n",
              "      <td>700.000000</td>\n",
              "      <td>25.000000</td>\n",
              "      <td>13.000000</td>\n",
              "      <td>20.000000</td>\n",
              "    </tr>\n",
              "    <tr>\n",
              "      <th>75%</th>\n",
              "      <td>1900.000000</td>\n",
              "      <td>38.000000</td>\n",
              "      <td>21.000000</td>\n",
              "      <td>30.000000</td>\n",
              "    </tr>\n",
              "    <tr>\n",
              "      <th>max</th>\n",
              "      <td>40425.000000</td>\n",
              "      <td>105.000000</td>\n",
              "      <td>105.000000</td>\n",
              "      <td>118.000000</td>\n",
              "    </tr>\n",
              "  </tbody>\n",
              "</table>\n",
              "</div>"
            ],
            "text/plain": [
              "       product_weight_g  product_length_cm  product_height_cm  product_width_cm\n",
              "count      32949.000000       32949.000000       32949.000000      32949.000000\n",
              "mean        2276.472488          30.815078          16.937661         23.196728\n",
              "std         4282.038731          16.914458          13.637554         12.079047\n",
              "min            0.000000           7.000000           2.000000          6.000000\n",
              "25%          300.000000          18.000000           8.000000         15.000000\n",
              "50%          700.000000          25.000000          13.000000         20.000000\n",
              "75%         1900.000000          38.000000          21.000000         30.000000\n",
              "max        40425.000000         105.000000         105.000000        118.000000"
            ]
          },
          "metadata": {
            "tags": []
          },
          "execution_count": 118
        }
      ]
    },
    {
      "cell_type": "code",
      "metadata": {
        "id": "VznDas9bc5iT",
        "colab_type": "code",
        "colab": {
          "base_uri": "https://localhost:8080/",
          "height": 206
        },
        "outputId": "04b67406-8429-460b-f5b8-d3d4b6865a56"
      },
      "source": [
        "#Print orders header\n",
        "translations.head()"
      ],
      "execution_count": 119,
      "outputs": [
        {
          "output_type": "execute_result",
          "data": {
            "text/html": [
              "<div>\n",
              "<style scoped>\n",
              "    .dataframe tbody tr th:only-of-type {\n",
              "        vertical-align: middle;\n",
              "    }\n",
              "\n",
              "    .dataframe tbody tr th {\n",
              "        vertical-align: top;\n",
              "    }\n",
              "\n",
              "    .dataframe thead th {\n",
              "        text-align: right;\n",
              "    }\n",
              "</style>\n",
              "<table border=\"1\" class=\"dataframe\">\n",
              "  <thead>\n",
              "    <tr style=\"text-align: right;\">\n",
              "      <th></th>\n",
              "      <th>product_category_name</th>\n",
              "      <th>product_category_name_english</th>\n",
              "    </tr>\n",
              "  </thead>\n",
              "  <tbody>\n",
              "    <tr>\n",
              "      <th>0</th>\n",
              "      <td>beleza_saude</td>\n",
              "      <td>health_beauty</td>\n",
              "    </tr>\n",
              "    <tr>\n",
              "      <th>1</th>\n",
              "      <td>informatica_acessorios</td>\n",
              "      <td>computers_accessories</td>\n",
              "    </tr>\n",
              "    <tr>\n",
              "      <th>2</th>\n",
              "      <td>automotivo</td>\n",
              "      <td>auto</td>\n",
              "    </tr>\n",
              "    <tr>\n",
              "      <th>3</th>\n",
              "      <td>cama_mesa_banho</td>\n",
              "      <td>bed_bath_table</td>\n",
              "    </tr>\n",
              "    <tr>\n",
              "      <th>4</th>\n",
              "      <td>moveis_decoracao</td>\n",
              "      <td>furniture_decor</td>\n",
              "    </tr>\n",
              "  </tbody>\n",
              "</table>\n",
              "</div>"
            ],
            "text/plain": [
              "    product_category_name product_category_name_english\n",
              "0            beleza_saude                 health_beauty\n",
              "1  informatica_acessorios         computers_accessories\n",
              "2              automotivo                          auto\n",
              "3         cama_mesa_banho                bed_bath_table\n",
              "4        moveis_decoracao               furniture_decor"
            ]
          },
          "metadata": {
            "tags": []
          },
          "execution_count": 119
        }
      ]
    },
    {
      "cell_type": "code",
      "metadata": {
        "id": "U-mQWfe9cSuv",
        "colab_type": "code",
        "colab": {
          "base_uri": "https://localhost:8080/",
          "height": 331
        },
        "outputId": "65e78cf3-89c9-4a01-a0fc-ca509b66ab49"
      },
      "source": [
        "#Print orders info\n",
        "translations.info()\n",
        "\n",
        "#print description\n",
        "translations.describe()"
      ],
      "execution_count": 120,
      "outputs": [
        {
          "output_type": "stream",
          "text": [
            "<class 'pandas.core.frame.DataFrame'>\n",
            "RangeIndex: 71 entries, 0 to 70\n",
            "Data columns (total 2 columns):\n",
            " #   Column                         Non-Null Count  Dtype \n",
            "---  ------                         --------------  ----- \n",
            " 0   product_category_name          71 non-null     object\n",
            " 1   product_category_name_english  71 non-null     object\n",
            "dtypes: object(2)\n",
            "memory usage: 1.2+ KB\n"
          ],
          "name": "stdout"
        },
        {
          "output_type": "execute_result",
          "data": {
            "text/html": [
              "<div>\n",
              "<style scoped>\n",
              "    .dataframe tbody tr th:only-of-type {\n",
              "        vertical-align: middle;\n",
              "    }\n",
              "\n",
              "    .dataframe tbody tr th {\n",
              "        vertical-align: top;\n",
              "    }\n",
              "\n",
              "    .dataframe thead th {\n",
              "        text-align: right;\n",
              "    }\n",
              "</style>\n",
              "<table border=\"1\" class=\"dataframe\">\n",
              "  <thead>\n",
              "    <tr style=\"text-align: right;\">\n",
              "      <th></th>\n",
              "      <th>product_category_name</th>\n",
              "      <th>product_category_name_english</th>\n",
              "    </tr>\n",
              "  </thead>\n",
              "  <tbody>\n",
              "    <tr>\n",
              "      <th>count</th>\n",
              "      <td>71</td>\n",
              "      <td>71</td>\n",
              "    </tr>\n",
              "    <tr>\n",
              "      <th>unique</th>\n",
              "      <td>71</td>\n",
              "      <td>71</td>\n",
              "    </tr>\n",
              "    <tr>\n",
              "      <th>top</th>\n",
              "      <td>bebidas</td>\n",
              "      <td>books_technical</td>\n",
              "    </tr>\n",
              "    <tr>\n",
              "      <th>freq</th>\n",
              "      <td>1</td>\n",
              "      <td>1</td>\n",
              "    </tr>\n",
              "  </tbody>\n",
              "</table>\n",
              "</div>"
            ],
            "text/plain": [
              "       product_category_name product_category_name_english\n",
              "count                     71                            71\n",
              "unique                    71                            71\n",
              "top                  bebidas               books_technical\n",
              "freq                       1                             1"
            ]
          },
          "metadata": {
            "tags": []
          },
          "execution_count": 120
        }
      ]
    },
    {
      "cell_type": "markdown",
      "metadata": {
        "id": "3BOUTSfmdpwq",
        "colab_type": "text"
      },
      "source": [
        "\n",
        "Translating item category names\n",
        "\n",
        "The product names are given in Portuguese. We'll translate the names to English using a pandas DataFrame named translations."
      ]
    },
    {
      "cell_type": "code",
      "metadata": {
        "id": "imIjR_qDdx_1",
        "colab_type": "code",
        "colab": {
          "base_uri": "https://localhost:8080/",
          "height": 225
        },
        "outputId": "036fcbf4-48da-4f9a-805f-14657882b6d1"
      },
      "source": [
        "#Translate product name to English\n",
        "products = products.merge(translations, on='product_category_name', how='left')\n",
        "\n",
        "products['product_category_name_english']"
      ],
      "execution_count": 121,
      "outputs": [
        {
          "output_type": "execute_result",
          "data": {
            "text/plain": [
              "0                          perfume\n",
              "1                              art\n",
              "2                   sports_leisure\n",
              "3                             baby\n",
              "4                       housewares\n",
              "                   ...            \n",
              "32946              furniture_decor\n",
              "32947    construction_tools_lights\n",
              "32948               bed_bath_table\n",
              "32949        computers_accessories\n",
              "32950               bed_bath_table\n",
              "Name: product_category_name_english, Length: 32951, dtype: object"
            ]
          },
          "metadata": {
            "tags": []
          },
          "execution_count": 121
        }
      ]
    },
    {
      "cell_type": "markdown",
      "metadata": {
        "id": "l--0r4WNezXN",
        "colab_type": "text"
      },
      "source": [
        "\n",
        "Convert product IDs to product category names.\n",
        "\n",
        "    Map product IDs to product category names, which are available in products.\n",
        "    Use another .merge() with orders and subset of products columns.\n"
      ]
    },
    {
      "cell_type": "code",
      "metadata": {
        "id": "kBHwzwelel4E",
        "colab_type": "code",
        "colab": {
          "base_uri": "https://localhost:8080/",
          "height": 206
        },
        "outputId": "931cdb11-d91e-4638-ab4e-5acc89db321f"
      },
      "source": [
        "#Define product catefoty name in orders DataFrame\n",
        "orders = orders.merge(products[['product_id','product_category_name_english']], on='product_id', how='left')\n",
        "orders.head()"
      ],
      "execution_count": 122,
      "outputs": [
        {
          "output_type": "execute_result",
          "data": {
            "text/html": [
              "<div>\n",
              "<style scoped>\n",
              "    .dataframe tbody tr th:only-of-type {\n",
              "        vertical-align: middle;\n",
              "    }\n",
              "\n",
              "    .dataframe tbody tr th {\n",
              "        vertical-align: top;\n",
              "    }\n",
              "\n",
              "    .dataframe thead th {\n",
              "        text-align: right;\n",
              "    }\n",
              "</style>\n",
              "<table border=\"1\" class=\"dataframe\">\n",
              "  <thead>\n",
              "    <tr style=\"text-align: right;\">\n",
              "      <th></th>\n",
              "      <th>order_id</th>\n",
              "      <th>order_item_id</th>\n",
              "      <th>product_id</th>\n",
              "      <th>price</th>\n",
              "      <th>product_category_name_english</th>\n",
              "    </tr>\n",
              "  </thead>\n",
              "  <tbody>\n",
              "    <tr>\n",
              "      <th>0</th>\n",
              "      <td>b8bfa12431142333a0c84802f9529d87</td>\n",
              "      <td>1</td>\n",
              "      <td>765a8070ece0f1383d0f5faf913dfb9b</td>\n",
              "      <td>81.0</td>\n",
              "      <td>sports_leisure</td>\n",
              "    </tr>\n",
              "    <tr>\n",
              "      <th>1</th>\n",
              "      <td>b8bfa12431142333a0c84802f9529d87</td>\n",
              "      <td>2</td>\n",
              "      <td>a41e356c76fab66334f36de622ecbd3a</td>\n",
              "      <td>99.3</td>\n",
              "      <td>NaN</td>\n",
              "    </tr>\n",
              "    <tr>\n",
              "      <th>2</th>\n",
              "      <td>b8bfa12431142333a0c84802f9529d87</td>\n",
              "      <td>3</td>\n",
              "      <td>765a8070ece0f1383d0f5faf913dfb9b</td>\n",
              "      <td>81.0</td>\n",
              "      <td>sports_leisure</td>\n",
              "    </tr>\n",
              "    <tr>\n",
              "      <th>3</th>\n",
              "      <td>00010242fe8c5a6d1ba2dd792cb16214</td>\n",
              "      <td>1</td>\n",
              "      <td>4244733e06e7ecb4970a6e2683c13e61</td>\n",
              "      <td>58.9</td>\n",
              "      <td>cool_stuff</td>\n",
              "    </tr>\n",
              "    <tr>\n",
              "      <th>4</th>\n",
              "      <td>00018f77f2f0320c557190d7a144bdd3</td>\n",
              "      <td>1</td>\n",
              "      <td>e5f2d52b802189ee658865ca93d83a8f</td>\n",
              "      <td>239.9</td>\n",
              "      <td>pet_shop</td>\n",
              "    </tr>\n",
              "  </tbody>\n",
              "</table>\n",
              "</div>"
            ],
            "text/plain": [
              "                           order_id  ...  product_category_name_english\n",
              "0  b8bfa12431142333a0c84802f9529d87  ...                 sports_leisure\n",
              "1  b8bfa12431142333a0c84802f9529d87  ...                            NaN\n",
              "2  b8bfa12431142333a0c84802f9529d87  ...                 sports_leisure\n",
              "3  00010242fe8c5a6d1ba2dd792cb16214  ...                     cool_stuff\n",
              "4  00018f77f2f0320c557190d7a144bdd3  ...                       pet_shop\n",
              "\n",
              "[5 rows x 5 columns]"
            ]
          },
          "metadata": {
            "tags": []
          },
          "execution_count": 122
        }
      ]
    },
    {
      "cell_type": "code",
      "metadata": {
        "id": "QnGk1XD9fwIk",
        "colab_type": "code",
        "colab": {}
      },
      "source": [
        "#Drop products without a defined category\n",
        "orders.dropna(inplace=True, subset=['product_category_name_english'])"
      ],
      "execution_count": 123,
      "outputs": []
    },
    {
      "cell_type": "code",
      "metadata": {
        "id": "GO3saBQhgCst",
        "colab_type": "code",
        "colab": {
          "base_uri": "https://localhost:8080/",
          "height": 34
        },
        "outputId": "f2b22b32-b4e7-47b8-91ef-3c71cf25745b"
      },
      "source": [
        "#Print number of unique items\n",
        "len(orders['product_id'].unique())"
      ],
      "execution_count": 124,
      "outputs": [
        {
          "output_type": "execute_result",
          "data": {
            "text/plain": [
              "32328"
            ]
          },
          "metadata": {
            "tags": []
          },
          "execution_count": 124
        }
      ]
    },
    {
      "cell_type": "code",
      "metadata": {
        "id": "brxn9aAogRYt",
        "colab_type": "code",
        "colab": {
          "base_uri": "https://localhost:8080/",
          "height": 34
        },
        "outputId": "45f759fc-215e-4add-9bf4-8799548a6ad2"
      },
      "source": [
        "#Print number of unique categories\n",
        "len(orders['product_category_name_english'].unique())"
      ],
      "execution_count": 125,
      "outputs": [
        {
          "output_type": "execute_result",
          "data": {
            "text/plain": [
              "71"
            ]
          },
          "metadata": {
            "tags": []
          },
          "execution_count": 125
        }
      ]
    },
    {
      "cell_type": "markdown",
      "metadata": {
        "id": "6MF4qIgfi_OK",
        "colab_type": "text"
      },
      "source": [
        "\n",
        "Construct transactions from order and product data\n",
        "\n",
        "    We will perform Market Basket Analysis on transactions. A transaction consists of the unique items purchased by a customer.\n",
        "    Need to extract transactions from orders DataFrame. Group all items in an order.\n",
        "\n"
      ]
    },
    {
      "cell_type": "code",
      "metadata": {
        "id": "fn0smsXVjO4w",
        "colab_type": "code",
        "colab": {
          "base_uri": "https://localhost:8080/",
          "height": 69
        },
        "outputId": "a76405c9-d8fc-485d-ae6f-4fad47c87755"
      },
      "source": [
        "#ID transactions associated with example order.\n",
        "example1 = orders[orders['order_id'] == 'fe64170e936bc5f6a6a41def260984b9']['product_category_name_english']\n",
        "\n",
        "example1"
      ],
      "execution_count": 126,
      "outputs": [
        {
          "output_type": "execute_result",
          "data": {
            "text/plain": [
              "111984     bed_bath_table\n",
              "111985    furniture_decor\n",
              "Name: product_category_name_english, dtype: object"
            ]
          },
          "metadata": {
            "tags": []
          },
          "execution_count": 126
        }
      ]
    },
    {
      "cell_type": "code",
      "metadata": {
        "id": "wwJkI_E3j1SF",
        "colab_type": "code",
        "colab": {
          "base_uri": "https://localhost:8080/",
          "height": 104
        },
        "outputId": "bf54507f-f5d8-487b-ceb7-cdbc0a773c4d"
      },
      "source": [
        "#ID transactions associated with example order\n",
        "example2 = orders[orders['order_id'] == 'fffb9224b6fc7c43ebb0904318b10b5f']['product_category_name_english']\n",
        "\n",
        "example2"
      ],
      "execution_count": 127,
      "outputs": [
        {
          "output_type": "execute_result",
          "data": {
            "text/plain": [
              "112640    watches_gifts\n",
              "112641    watches_gifts\n",
              "112642    watches_gifts\n",
              "112643    watches_gifts\n",
              "Name: product_category_name_english, dtype: object"
            ]
          },
          "metadata": {
            "tags": []
          },
          "execution_count": 127
        }
      ]
    },
    {
      "cell_type": "markdown",
      "metadata": {
        "id": "yoSVw_bzkKj1",
        "colab_type": "text"
      },
      "source": [
        "\n",
        "\n",
        "Map orders to transactions.\n",
        "\n",
        "    .groupby() splits a DataFrame into groups according to some criterion.\n",
        "    .unique() returns list of unique values.\n",
        "\n"
      ]
    },
    {
      "cell_type": "code",
      "metadata": {
        "id": "BSDCHNv_kQtU",
        "colab_type": "code",
        "colab": {
          "base_uri": "https://localhost:8080/",
          "height": 139
        },
        "outputId": "33676ec8-b648-4a95-cda2-63c71def4f7e"
      },
      "source": [
        "#Recover transaction itemsets from orders Dataframe\n",
        "transactions = orders.groupby('order_id').product_category_name_english.unique()\n",
        "transactions.head()"
      ],
      "execution_count": 128,
      "outputs": [
        {
          "output_type": "execute_result",
          "data": {
            "text/plain": [
              "order_id\n",
              "00010242fe8c5a6d1ba2dd792cb16214         [cool_stuff]\n",
              "00018f77f2f0320c557190d7a144bdd3           [pet_shop]\n",
              "000229ec398224ef6ca0657da4fc703e    [furniture_decor]\n",
              "00024acbcdf0a6daa1e931b038114c75            [perfume]\n",
              "00042b26cf59d7ce69dfabb4e55b4fd9       [garden_tools]\n",
              "Name: product_category_name_english, dtype: object"
            ]
          },
          "metadata": {
            "tags": []
          },
          "execution_count": 128
        }
      ]
    },
    {
      "cell_type": "code",
      "metadata": {
        "id": "MKgqKaZ6kzOC",
        "colab_type": "code",
        "colab": {
          "base_uri": "https://localhost:8080/",
          "height": 564
        },
        "outputId": "5e5b6572-85c7-4f07-9e05-cf6875c4e811"
      },
      "source": [
        "#Plot 50 largest categories of transactions\n",
        "transactions.value_counts()[:50].plot(kind='bar', figsize=(15,5))"
      ],
      "execution_count": 129,
      "outputs": [
        {
          "output_type": "execute_result",
          "data": {
            "text/plain": [
              "<matplotlib.axes._subplots.AxesSubplot at 0x7fc43841a898>"
            ]
          },
          "metadata": {
            "tags": []
          },
          "execution_count": 129
        },
        {
          "output_type": "display_data",
          "data": {
            "image/png": "[encoded data removed]",
            "text/plain": [
              "<Figure size 1080x360 with 1 Axes>"
            ]
          },
          "metadata": {
            "tags": []
          }
        }
      ]
    },
    {
      "cell_type": "code",
      "metadata": {
        "id": "M8kz2B6mlG4X",
        "colab_type": "code",
        "colab": {}
      },
      "source": [
        "#Convert pandas series to list of lists\n",
        "transactions = transactions.tolist()"
      ],
      "execution_count": 130,
      "outputs": []
    },
    {
      "cell_type": "markdown",
      "metadata": {
        "id": "eyXAwQeSlgvM",
        "colab_type": "text"
      },
      "source": [
        "Summarize final transaction data"
      ]
    },
    {
      "cell_type": "code",
      "metadata": {
        "id": "cCVqMfuuletQ",
        "colab_type": "code",
        "colab": {
          "base_uri": "https://localhost:8080/",
          "height": 34
        },
        "outputId": "b050b24d-5d29-4506-9172-f27c9a0095d2"
      },
      "source": [
        "#Lenght of transactions\n",
        "len(transactions)"
      ],
      "execution_count": 131,
      "outputs": [
        {
          "output_type": "execute_result",
          "data": {
            "text/plain": [
              "97256"
            ]
          },
          "metadata": {
            "tags": []
          },
          "execution_count": 131
        }
      ]
    },
    {
      "cell_type": "code",
      "metadata": {
        "id": "9eu1RRk9ltVb",
        "colab_type": "code",
        "colab": {}
      },
      "source": [
        "#Number of unique categories for each transaction\n",
        "counts = [len(transaction) for transaction in transactions]"
      ],
      "execution_count": 132,
      "outputs": []
    },
    {
      "cell_type": "code",
      "metadata": {
        "id": "tlu0A9J6mMcg",
        "colab_type": "code",
        "colab": {
          "base_uri": "https://localhost:8080/",
          "height": 34
        },
        "outputId": "d6a6e8be-25f2-4671-d46f-fabb1735dc3e"
      },
      "source": [
        "#Median number of items in a transaction\n",
        "np.median(counts)"
      ],
      "execution_count": 133,
      "outputs": [
        {
          "output_type": "execute_result",
          "data": {
            "text/plain": [
              "1.0"
            ]
          },
          "metadata": {
            "tags": []
          },
          "execution_count": 133
        }
      ]
    },
    {
      "cell_type": "code",
      "metadata": {
        "id": "AXiF2PBKmVCw",
        "colab_type": "code",
        "colab": {
          "base_uri": "https://localhost:8080/",
          "height": 34
        },
        "outputId": "aeaf70fe-e8f2-49aa-e241-21f34e932b5a"
      },
      "source": [
        "#Maximum number of items in a transaction\n",
        "np.max(counts)"
      ],
      "execution_count": 134,
      "outputs": [
        {
          "output_type": "execute_result",
          "data": {
            "text/plain": [
              "3"
            ]
          },
          "metadata": {
            "tags": []
          },
          "execution_count": 134
        }
      ]
    },
    {
      "cell_type": "markdown",
      "metadata": {
        "id": "VTTA6UG8moma",
        "colab_type": "text"
      },
      "source": [
        "\n",
        "Association Rules and Metrics\n",
        "\n",
        "Association rule: an \"if-then\" relationship between two itemsets.\n",
        "\n",
        "    rule: if {coffee) then {milk}.\n",
        "    antecedent: coffee\n",
        "    consequent: milk\n",
        "\n",
        "Metric: a measure of the strength of association between two itemsets.\n",
        "\n",
        "    rule: if {coffee) then {milk}\n",
        "    support: 0.10\n",
        "    leverage: 0.03\n",
        "\n",
        "One-hot encode the transaction data\n",
        "\n",
        "    One-hot encoding data.\n",
        "        TransactionEncoder() instantiates an encoder object.\n",
        "        .fit() creates mapping between list and one-hot encoding.\n",
        "        .transform() transforms list into one-hot encoded array.\n",
        "\n",
        "    Applying one-hot encoding will transform the list of lists (of transactions) into a DataFrame.\n",
        "        \n",
        "    One-hot encoding simplifies the computation of metrics.\n",
        " \n",
        "\n"
      ]
    },
    {
      "cell_type": "code",
      "metadata": {
        "id": "PPDIHn7Gm0LG",
        "colab_type": "code",
        "colab": {
          "base_uri": "https://localhost:8080/",
          "height": 226
        },
        "outputId": "b010a0a9-8cbe-4998-c0da-92715d4c5e84"
      },
      "source": [
        "#Instantiate encoder\n",
        "encoder = TransactionEncoder()\n",
        "\n",
        "#Fit encoder to list of lists\n",
        "encoder.fit(transactions)\n",
        "\n",
        "#Transform lists into onw-hot encoded array\n",
        "onehot = encoder.transform(transactions)\n",
        "\n",
        "#Convert array to pandas DataFrame\n",
        "onehot = pd.DataFrame(onehot, columns = encoder.columns_)\n",
        "\n",
        "onehot.head()"
      ],
      "execution_count": 135,
      "outputs": [
        {
          "output_type": "execute_result",
          "data": {
            "text/html": [
              "<div>\n",
              "<style scoped>\n",
              "    .dataframe tbody tr th:only-of-type {\n",
              "        vertical-align: middle;\n",
              "    }\n",
              "\n",
              "    .dataframe tbody tr th {\n",
              "        vertical-align: top;\n",
              "    }\n",
              "\n",
              "    .dataframe thead th {\n",
              "        text-align: right;\n",
              "    }\n",
              "</style>\n",
              "<table border=\"1\" class=\"dataframe\">\n",
              "  <thead>\n",
              "    <tr style=\"text-align: right;\">\n",
              "      <th></th>\n",
              "      <th>agro_industry_and_commerce</th>\n",
              "      <th>air_conditioning</th>\n",
              "      <th>art</th>\n",
              "      <th>arts_and_crafts</th>\n",
              "      <th>audio</th>\n",
              "      <th>auto</th>\n",
              "      <th>baby</th>\n",
              "      <th>bed_bath_table</th>\n",
              "      <th>books_general_interest</th>\n",
              "      <th>books_imported</th>\n",
              "      <th>books_technical</th>\n",
              "      <th>cds_dvds_music</th>\n",
              "      <th>christmas_supplies</th>\n",
              "      <th>cine_photo</th>\n",
              "      <th>computers</th>\n",
              "      <th>computers_accessories</th>\n",
              "      <th>consoles_games</th>\n",
              "      <th>construction_tools_construction</th>\n",
              "      <th>construction_tools_lights</th>\n",
              "      <th>construction_tools_safety</th>\n",
              "      <th>cool_stuff</th>\n",
              "      <th>costruction_tools_garden</th>\n",
              "      <th>costruction_tools_tools</th>\n",
              "      <th>cuisine</th>\n",
              "      <th>diapers_and_hygiene</th>\n",
              "      <th>drinks</th>\n",
              "      <th>dvds_blu_ray</th>\n",
              "      <th>electronics</th>\n",
              "      <th>fashion_bags_accessories</th>\n",
              "      <th>fashion_childrens_clothes</th>\n",
              "      <th>fashion_female_clothing</th>\n",
              "      <th>fashion_male_clothing</th>\n",
              "      <th>fashion_shoes</th>\n",
              "      <th>fashion_sport</th>\n",
              "      <th>fashion_underwear_beach</th>\n",
              "      <th>fixed_telephony</th>\n",
              "      <th>flowers</th>\n",
              "      <th>food</th>\n",
              "      <th>food_drink</th>\n",
              "      <th>furniture_bedroom</th>\n",
              "      <th>furniture_decor</th>\n",
              "      <th>furniture_living_room</th>\n",
              "      <th>furniture_mattress_and_upholstery</th>\n",
              "      <th>garden_tools</th>\n",
              "      <th>health_beauty</th>\n",
              "      <th>home_appliances</th>\n",
              "      <th>home_appliances_2</th>\n",
              "      <th>home_comfort</th>\n",
              "      <th>home_comfort_2</th>\n",
              "      <th>home_construction</th>\n",
              "      <th>housewares</th>\n",
              "      <th>industry_commerce_and_business</th>\n",
              "      <th>kitchen_dining_laundry_garden_furniture</th>\n",
              "      <th>luggage_accessories</th>\n",
              "      <th>market_place</th>\n",
              "      <th>music</th>\n",
              "      <th>musical_instruments</th>\n",
              "      <th>office_furniture</th>\n",
              "      <th>party_supplies</th>\n",
              "      <th>perfume</th>\n",
              "      <th>pet_shop</th>\n",
              "      <th>security_and_services</th>\n",
              "      <th>signaling_and_security</th>\n",
              "      <th>small_appliances</th>\n",
              "      <th>small_appliances_home_oven_and_coffee</th>\n",
              "      <th>sports_leisure</th>\n",
              "      <th>stationery</th>\n",
              "      <th>tablets_printing_image</th>\n",
              "      <th>telephony</th>\n",
              "      <th>toys</th>\n",
              "      <th>watches_gifts</th>\n",
              "    </tr>\n",
              "  </thead>\n",
              "  <tbody>\n",
              "    <tr>\n",
              "      <th>0</th>\n",
              "      <td>False</td>\n",
              "      <td>False</td>\n",
              "      <td>False</td>\n",
              "      <td>False</td>\n",
              "      <td>False</td>\n",
              "      <td>False</td>\n",
              "      <td>False</td>\n",
              "      <td>False</td>\n",
              "      <td>False</td>\n",
              "      <td>False</td>\n",
              "      <td>False</td>\n",
              "      <td>False</td>\n",
              "      <td>False</td>\n",
              "      <td>False</td>\n",
              "      <td>False</td>\n",
              "      <td>False</td>\n",
              "      <td>False</td>\n",
              "      <td>False</td>\n",
              "      <td>False</td>\n",
              "      <td>False</td>\n",
              "      <td>True</td>\n",
              "      <td>False</td>\n",
              "      <td>False</td>\n",
              "      <td>False</td>\n",
              "      <td>False</td>\n",
              "      <td>False</td>\n",
              "      <td>False</td>\n",
              "      <td>False</td>\n",
              "      <td>False</td>\n",
              "      <td>False</td>\n",
              "      <td>False</td>\n",
              "      <td>False</td>\n",
              "      <td>False</td>\n",
              "      <td>False</td>\n",
              "      <td>False</td>\n",
              "      <td>False</td>\n",
              "      <td>False</td>\n",
              "      <td>False</td>\n",
              "      <td>False</td>\n",
              "      <td>False</td>\n",
              "      <td>False</td>\n",
              "      <td>False</td>\n",
              "      <td>False</td>\n",
              "      <td>False</td>\n",
              "      <td>False</td>\n",
              "      <td>False</td>\n",
              "      <td>False</td>\n",
              "      <td>False</td>\n",
              "      <td>False</td>\n",
              "      <td>False</td>\n",
              "      <td>False</td>\n",
              "      <td>False</td>\n",
              "      <td>False</td>\n",
              "      <td>False</td>\n",
              "      <td>False</td>\n",
              "      <td>False</td>\n",
              "      <td>False</td>\n",
              "      <td>False</td>\n",
              "      <td>False</td>\n",
              "      <td>False</td>\n",
              "      <td>False</td>\n",
              "      <td>False</td>\n",
              "      <td>False</td>\n",
              "      <td>False</td>\n",
              "      <td>False</td>\n",
              "      <td>False</td>\n",
              "      <td>False</td>\n",
              "      <td>False</td>\n",
              "      <td>False</td>\n",
              "      <td>False</td>\n",
              "      <td>False</td>\n",
              "    </tr>\n",
              "    <tr>\n",
              "      <th>1</th>\n",
              "      <td>False</td>\n",
              "      <td>False</td>\n",
              "      <td>False</td>\n",
              "      <td>False</td>\n",
              "      <td>False</td>\n",
              "      <td>False</td>\n",
              "      <td>False</td>\n",
              "      <td>False</td>\n",
              "      <td>False</td>\n",
              "      <td>False</td>\n",
              "      <td>False</td>\n",
              "      <td>False</td>\n",
              "      <td>False</td>\n",
              "      <td>False</td>\n",
              "      <td>False</td>\n",
              "      <td>False</td>\n",
              "      <td>False</td>\n",
              "      <td>False</td>\n",
              "      <td>False</td>\n",
              "      <td>False</td>\n",
              "      <td>False</td>\n",
              "      <td>False</td>\n",
              "      <td>False</td>\n",
              "      <td>False</td>\n",
              "      <td>False</td>\n",
              "      <td>False</td>\n",
              "      <td>False</td>\n",
              "      <td>False</td>\n",
              "      <td>False</td>\n",
              "      <td>False</td>\n",
              "      <td>False</td>\n",
              "      <td>False</td>\n",
              "      <td>False</td>\n",
              "      <td>False</td>\n",
              "      <td>False</td>\n",
              "      <td>False</td>\n",
              "      <td>False</td>\n",
              "      <td>False</td>\n",
              "      <td>False</td>\n",
              "      <td>False</td>\n",
              "      <td>False</td>\n",
              "      <td>False</td>\n",
              "      <td>False</td>\n",
              "      <td>False</td>\n",
              "      <td>False</td>\n",
              "      <td>False</td>\n",
              "      <td>False</td>\n",
              "      <td>False</td>\n",
              "      <td>False</td>\n",
              "      <td>False</td>\n",
              "      <td>False</td>\n",
              "      <td>False</td>\n",
              "      <td>False</td>\n",
              "      <td>False</td>\n",
              "      <td>False</td>\n",
              "      <td>False</td>\n",
              "      <td>False</td>\n",
              "      <td>False</td>\n",
              "      <td>False</td>\n",
              "      <td>False</td>\n",
              "      <td>True</td>\n",
              "      <td>False</td>\n",
              "      <td>False</td>\n",
              "      <td>False</td>\n",
              "      <td>False</td>\n",
              "      <td>False</td>\n",
              "      <td>False</td>\n",
              "      <td>False</td>\n",
              "      <td>False</td>\n",
              "      <td>False</td>\n",
              "      <td>False</td>\n",
              "    </tr>\n",
              "    <tr>\n",
              "      <th>2</th>\n",
              "      <td>False</td>\n",
              "      <td>False</td>\n",
              "      <td>False</td>\n",
              "      <td>False</td>\n",
              "      <td>False</td>\n",
              "      <td>False</td>\n",
              "      <td>False</td>\n",
              "      <td>False</td>\n",
              "      <td>False</td>\n",
              "      <td>False</td>\n",
              "      <td>False</td>\n",
              "      <td>False</td>\n",
              "      <td>False</td>\n",
              "      <td>False</td>\n",
              "      <td>False</td>\n",
              "      <td>False</td>\n",
              "      <td>False</td>\n",
              "      <td>False</td>\n",
              "      <td>False</td>\n",
              "      <td>False</td>\n",
              "      <td>False</td>\n",
              "      <td>False</td>\n",
              "      <td>False</td>\n",
              "      <td>False</td>\n",
              "      <td>False</td>\n",
              "      <td>False</td>\n",
              "      <td>False</td>\n",
              "      <td>False</td>\n",
              "      <td>False</td>\n",
              "      <td>False</td>\n",
              "      <td>False</td>\n",
              "      <td>False</td>\n",
              "      <td>False</td>\n",
              "      <td>False</td>\n",
              "      <td>False</td>\n",
              "      <td>False</td>\n",
              "      <td>False</td>\n",
              "      <td>False</td>\n",
              "      <td>False</td>\n",
              "      <td>False</td>\n",
              "      <td>True</td>\n",
              "      <td>False</td>\n",
              "      <td>False</td>\n",
              "      <td>False</td>\n",
              "      <td>False</td>\n",
              "      <td>False</td>\n",
              "      <td>False</td>\n",
              "      <td>False</td>\n",
              "      <td>False</td>\n",
              "      <td>False</td>\n",
              "      <td>False</td>\n",
              "      <td>False</td>\n",
              "      <td>False</td>\n",
              "      <td>False</td>\n",
              "      <td>False</td>\n",
              "      <td>False</td>\n",
              "      <td>False</td>\n",
              "      <td>False</td>\n",
              "      <td>False</td>\n",
              "      <td>False</td>\n",
              "      <td>False</td>\n",
              "      <td>False</td>\n",
              "      <td>False</td>\n",
              "      <td>False</td>\n",
              "      <td>False</td>\n",
              "      <td>False</td>\n",
              "      <td>False</td>\n",
              "      <td>False</td>\n",
              "      <td>False</td>\n",
              "      <td>False</td>\n",
              "      <td>False</td>\n",
              "    </tr>\n",
              "    <tr>\n",
              "      <th>3</th>\n",
              "      <td>False</td>\n",
              "      <td>False</td>\n",
              "      <td>False</td>\n",
              "      <td>False</td>\n",
              "      <td>False</td>\n",
              "      <td>False</td>\n",
              "      <td>False</td>\n",
              "      <td>False</td>\n",
              "      <td>False</td>\n",
              "      <td>False</td>\n",
              "      <td>False</td>\n",
              "      <td>False</td>\n",
              "      <td>False</td>\n",
              "      <td>False</td>\n",
              "      <td>False</td>\n",
              "      <td>False</td>\n",
              "      <td>False</td>\n",
              "      <td>False</td>\n",
              "      <td>False</td>\n",
              "      <td>False</td>\n",
              "      <td>False</td>\n",
              "      <td>False</td>\n",
              "      <td>False</td>\n",
              "      <td>False</td>\n",
              "      <td>False</td>\n",
              "      <td>False</td>\n",
              "      <td>False</td>\n",
              "      <td>False</td>\n",
              "      <td>False</td>\n",
              "      <td>False</td>\n",
              "      <td>False</td>\n",
              "      <td>False</td>\n",
              "      <td>False</td>\n",
              "      <td>False</td>\n",
              "      <td>False</td>\n",
              "      <td>False</td>\n",
              "      <td>False</td>\n",
              "      <td>False</td>\n",
              "      <td>False</td>\n",
              "      <td>False</td>\n",
              "      <td>False</td>\n",
              "      <td>False</td>\n",
              "      <td>False</td>\n",
              "      <td>False</td>\n",
              "      <td>False</td>\n",
              "      <td>False</td>\n",
              "      <td>False</td>\n",
              "      <td>False</td>\n",
              "      <td>False</td>\n",
              "      <td>False</td>\n",
              "      <td>False</td>\n",
              "      <td>False</td>\n",
              "      <td>False</td>\n",
              "      <td>False</td>\n",
              "      <td>False</td>\n",
              "      <td>False</td>\n",
              "      <td>False</td>\n",
              "      <td>False</td>\n",
              "      <td>False</td>\n",
              "      <td>True</td>\n",
              "      <td>False</td>\n",
              "      <td>False</td>\n",
              "      <td>False</td>\n",
              "      <td>False</td>\n",
              "      <td>False</td>\n",
              "      <td>False</td>\n",
              "      <td>False</td>\n",
              "      <td>False</td>\n",
              "      <td>False</td>\n",
              "      <td>False</td>\n",
              "      <td>False</td>\n",
              "    </tr>\n",
              "    <tr>\n",
              "      <th>4</th>\n",
              "      <td>False</td>\n",
              "      <td>False</td>\n",
              "      <td>False</td>\n",
              "      <td>False</td>\n",
              "      <td>False</td>\n",
              "      <td>False</td>\n",
              "      <td>False</td>\n",
              "      <td>False</td>\n",
              "      <td>False</td>\n",
              "      <td>False</td>\n",
              "      <td>False</td>\n",
              "      <td>False</td>\n",
              "      <td>False</td>\n",
              "      <td>False</td>\n",
              "      <td>False</td>\n",
              "      <td>False</td>\n",
              "      <td>False</td>\n",
              "      <td>False</td>\n",
              "      <td>False</td>\n",
              "      <td>False</td>\n",
              "      <td>False</td>\n",
              "      <td>False</td>\n",
              "      <td>False</td>\n",
              "      <td>False</td>\n",
              "      <td>False</td>\n",
              "      <td>False</td>\n",
              "      <td>False</td>\n",
              "      <td>False</td>\n",
              "      <td>False</td>\n",
              "      <td>False</td>\n",
              "      <td>False</td>\n",
              "      <td>False</td>\n",
              "      <td>False</td>\n",
              "      <td>False</td>\n",
              "      <td>False</td>\n",
              "      <td>False</td>\n",
              "      <td>False</td>\n",
              "      <td>False</td>\n",
              "      <td>False</td>\n",
              "      <td>False</td>\n",
              "      <td>False</td>\n",
              "      <td>False</td>\n",
              "      <td>False</td>\n",
              "      <td>True</td>\n",
              "      <td>False</td>\n",
              "      <td>False</td>\n",
              "      <td>False</td>\n",
              "      <td>False</td>\n",
              "      <td>False</td>\n",
              "      <td>False</td>\n",
              "      <td>False</td>\n",
              "      <td>False</td>\n",
              "      <td>False</td>\n",
              "      <td>False</td>\n",
              "      <td>False</td>\n",
              "      <td>False</td>\n",
              "      <td>False</td>\n",
              "      <td>False</td>\n",
              "      <td>False</td>\n",
              "      <td>False</td>\n",
              "      <td>False</td>\n",
              "      <td>False</td>\n",
              "      <td>False</td>\n",
              "      <td>False</td>\n",
              "      <td>False</td>\n",
              "      <td>False</td>\n",
              "      <td>False</td>\n",
              "      <td>False</td>\n",
              "      <td>False</td>\n",
              "      <td>False</td>\n",
              "      <td>False</td>\n",
              "    </tr>\n",
              "  </tbody>\n",
              "</table>\n",
              "</div>"
            ],
            "text/plain": [
              "   agro_industry_and_commerce  air_conditioning  ...   toys  watches_gifts\n",
              "0                       False             False  ...  False          False\n",
              "1                       False             False  ...  False          False\n",
              "2                       False             False  ...  False          False\n",
              "3                       False             False  ...  False          False\n",
              "4                       False             False  ...  False          False\n",
              "\n",
              "[5 rows x 71 columns]"
            ]
          },
          "metadata": {
            "tags": []
          },
          "execution_count": 135
        }
      ]
    },
    {
      "cell_type": "markdown",
      "metadata": {
        "id": "gsdruIuaoTdr",
        "colab_type": "text"
      },
      "source": [
        "\n",
        "Compute the support metric\n",
        "\n",
        "    Support measures the frequency with which an itemset appears in a database of transactions.\n",
        "\n",
        "$$support(X) = \\frac{\\text{number of transactions containing X}}{\\text{total number of transactions}}$$\n",
        "\n",
        "    .mean(axis=0) computes support values for one-hot encoded DataFrame.\n",
        "    A high support value indicates that items in an itemset are purchased together frequently and, thus, are associated with each other.\n",
        "\n"
      ]
    },
    {
      "cell_type": "code",
      "metadata": {
        "id": "XeHue3HJobQI",
        "colab_type": "code",
        "colab": {
          "base_uri": "https://localhost:8080/",
          "height": 225
        },
        "outputId": "c5ca4c9b-94cf-47cf-8096-6d2eb6ea99e5"
      },
      "source": [
        "#Print support metric over all rows for each column\n",
        "onehot.mean(axis=0)"
      ],
      "execution_count": 136,
      "outputs": [
        {
          "output_type": "execute_result",
          "data": {
            "text/plain": [
              "agro_industry_and_commerce    0.001871\n",
              "air_conditioning              0.002601\n",
              "art                           0.002077\n",
              "arts_and_crafts               0.000236\n",
              "audio                         0.003599\n",
              "                                ...   \n",
              "stationery                    0.023762\n",
              "tablets_printing_image        0.000812\n",
              "telephony                     0.043175\n",
              "toys                          0.039956\n",
              "watches_gifts                 0.057827\n",
              "Length: 71, dtype: float64"
            ]
          },
          "metadata": {
            "tags": []
          },
          "execution_count": 136
        }
      ]
    },
    {
      "cell_type": "markdown",
      "metadata": {
        "id": "iKOXsO2iozjd",
        "colab_type": "text"
      },
      "source": [
        "\n",
        "Compute the item count distribution over transactions\n",
        "\n",
        "    onehot.sum(axis=1) sums across the columns in a DataFrame.\n",
        "\n"
      ]
    },
    {
      "cell_type": "code",
      "metadata": {
        "id": "sbFkJBXlo1Tc",
        "colab_type": "code",
        "colab": {
          "base_uri": "https://localhost:8080/",
          "height": 86
        },
        "outputId": "c52e192a-17c8-4989-d4b2-3c7e60bc6d62"
      },
      "source": [
        "#Distribution of item counts\n",
        "onehot.sum(axis=1).value_counts()"
      ],
      "execution_count": 137,
      "outputs": [
        {
          "output_type": "execute_result",
          "data": {
            "text/plain": [
              "1    96530\n",
              "2      711\n",
              "3       15\n",
              "dtype: int64"
            ]
          },
          "metadata": {
            "tags": []
          },
          "execution_count": 137
        }
      ]
    },
    {
      "cell_type": "markdown",
      "metadata": {
        "id": "NtDTq2xvpLgH",
        "colab_type": "text"
      },
      "source": [
        "\n",
        "Create a column for an itemset with multiple items\n",
        "\n",
        "    We can create multi-item columns using the logical AND operation.\n",
        "        True & True = True\n",
        "        True & False = False\n",
        "        False & True = False\n",
        "        False & False = False\n",
        "\n"
      ]
    },
    {
      "cell_type": "code",
      "metadata": {
        "id": "rsu29qsZpM5S",
        "colab_type": "code",
        "colab": {
          "base_uri": "https://localhost:8080/",
          "height": 86
        },
        "outputId": "69247aea-5413-479b-edb6-dedc23f4a016"
      },
      "source": [
        "#Merge boos_imported and books_technical\n",
        "onehot['books'] = onehot['books_imported'] | onehot['books_technical']\n",
        "\n",
        "#Print support values\n",
        "onehot[['books', 'books_imported', 'books_technical']].mean(axis=0)"
      ],
      "execution_count": 138,
      "outputs": [
        {
          "output_type": "execute_result",
          "data": {
            "text/plain": [
              "books              0.003218\n",
              "books_imported     0.000545\n",
              "books_technical    0.002673\n",
              "dtype: float64"
            ]
          },
          "metadata": {
            "tags": []
          },
          "execution_count": 138
        }
      ]
    },
    {
      "cell_type": "markdown",
      "metadata": {
        "id": "1o3UFdqAp7rJ",
        "colab_type": "text"
      },
      "source": [
        "\n",
        "Compute the confidence metric\n",
        "\n",
        "    The support metric doesn't provide information about direction.\n",
        "\n",
        "    The confidence metric has a direction.\n",
        "        Conditional probability of the consequent, given the antecedent.\n",
        "\n",
        "    A high value of confidence indicates that the antecedent and consequent are associated and that the direction of the association runs from the antecedent to the consequent.\n",
        "\n"
      ]
    },
    {
      "cell_type": "code",
      "metadata": {
        "id": "anVNrGfjqFZE",
        "colab_type": "code",
        "colab": {
          "base_uri": "https://localhost:8080/",
          "height": 34
        },
        "outputId": "ded903db-85fd-489a-cf72-14c422940074"
      },
      "source": [
        "#Compute joint support for sports_leisure and health_beauty\n",
        "joint_support = (onehot['sports_leisure'] & onehot['health_beauty']).mean()\n",
        "\n",
        "#Confidence metric for sports_leisure -> health_beauty\n",
        "joint_support / onehot['sports_leisure'].mean()"
      ],
      "execution_count": 139,
      "outputs": [
        {
          "output_type": "execute_result",
          "data": {
            "text/plain": [
              "0.0018134715025906734"
            ]
          },
          "metadata": {
            "tags": []
          },
          "execution_count": 139
        }
      ]
    },
    {
      "cell_type": "markdown",
      "metadata": {
        "id": "tn3wBpbAr5Bc",
        "colab_type": "text"
      },
      "source": [
        "\n",
        "The Apriori Algorithm and Pruning\n",
        "\n",
        "The Apriori algorithm identifies frequent (high support) itemsets using something called the Apriori principle, which states that a superset that contains an infrequent item is also infrequent.\n",
        "\n",
        "\n",
        "Pruning is the process of removing itemsets or association rules, typically based on the application of a metric threshold.\n",
        "\n",
        "Applying the Apriori algorithm\n",
        "\n",
        "    Use apriori() to identify frequent itemsets.\n",
        "    min_support set the item frequency threshold used for pruning.\n",
        "\n"
      ]
    },
    {
      "cell_type": "code",
      "metadata": {
        "id": "38fKcAl1sC45",
        "colab_type": "code",
        "colab": {
          "base_uri": "https://localhost:8080/",
          "height": 708
        },
        "outputId": "b0925e47-7e35-4a51-af9f-8ec5cde67cf9"
      },
      "source": [
        "#Apply algorithm to data with min support treshhold of 0.01\n",
        "frequent_itemsets = apriori(onehot, min_support = 0.01)\n",
        "\n",
        "frequent_itemsets\n"
      ],
      "execution_count": 140,
      "outputs": [
        {
          "output_type": "execute_result",
          "data": {
            "text/html": [
              "<div>\n",
              "<style scoped>\n",
              "    .dataframe tbody tr th:only-of-type {\n",
              "        vertical-align: middle;\n",
              "    }\n",
              "\n",
              "    .dataframe tbody tr th {\n",
              "        vertical-align: top;\n",
              "    }\n",
              "\n",
              "    .dataframe thead th {\n",
              "        text-align: right;\n",
              "    }\n",
              "</style>\n",
              "<table border=\"1\" class=\"dataframe\">\n",
              "  <thead>\n",
              "    <tr style=\"text-align: right;\">\n",
              "      <th></th>\n",
              "      <th>support</th>\n",
              "      <th>itemsets</th>\n",
              "    </tr>\n",
              "  </thead>\n",
              "  <tbody>\n",
              "    <tr>\n",
              "      <th>0</th>\n",
              "      <td>0.040070</td>\n",
              "      <td>(5)</td>\n",
              "    </tr>\n",
              "    <tr>\n",
              "      <th>1</th>\n",
              "      <td>0.029664</td>\n",
              "      <td>(6)</td>\n",
              "    </tr>\n",
              "    <tr>\n",
              "      <th>2</th>\n",
              "      <td>0.096827</td>\n",
              "      <td>(7)</td>\n",
              "    </tr>\n",
              "    <tr>\n",
              "      <th>3</th>\n",
              "      <td>0.068777</td>\n",
              "      <td>(15)</td>\n",
              "    </tr>\n",
              "    <tr>\n",
              "      <th>4</th>\n",
              "      <td>0.010920</td>\n",
              "      <td>(16)</td>\n",
              "    </tr>\n",
              "    <tr>\n",
              "      <th>5</th>\n",
              "      <td>0.037345</td>\n",
              "      <td>(20)</td>\n",
              "    </tr>\n",
              "    <tr>\n",
              "      <th>6</th>\n",
              "      <td>0.026219</td>\n",
              "      <td>(27)</td>\n",
              "    </tr>\n",
              "    <tr>\n",
              "      <th>7</th>\n",
              "      <td>0.019166</td>\n",
              "      <td>(28)</td>\n",
              "    </tr>\n",
              "    <tr>\n",
              "      <th>8</th>\n",
              "      <td>0.066310</td>\n",
              "      <td>(40)</td>\n",
              "    </tr>\n",
              "    <tr>\n",
              "      <th>9</th>\n",
              "      <td>0.036173</td>\n",
              "      <td>(43)</td>\n",
              "    </tr>\n",
              "    <tr>\n",
              "      <th>10</th>\n",
              "      <td>0.090853</td>\n",
              "      <td>(44)</td>\n",
              "    </tr>\n",
              "    <tr>\n",
              "      <th>11</th>\n",
              "      <td>0.060500</td>\n",
              "      <td>(50)</td>\n",
              "    </tr>\n",
              "    <tr>\n",
              "      <th>12</th>\n",
              "      <td>0.010632</td>\n",
              "      <td>(53)</td>\n",
              "    </tr>\n",
              "    <tr>\n",
              "      <th>13</th>\n",
              "      <td>0.013089</td>\n",
              "      <td>(57)</td>\n",
              "    </tr>\n",
              "    <tr>\n",
              "      <th>14</th>\n",
              "      <td>0.032512</td>\n",
              "      <td>(59)</td>\n",
              "    </tr>\n",
              "    <tr>\n",
              "      <th>15</th>\n",
              "      <td>0.017582</td>\n",
              "      <td>(60)</td>\n",
              "    </tr>\n",
              "    <tr>\n",
              "      <th>16</th>\n",
              "      <td>0.079378</td>\n",
              "      <td>(65)</td>\n",
              "    </tr>\n",
              "    <tr>\n",
              "      <th>17</th>\n",
              "      <td>0.023762</td>\n",
              "      <td>(66)</td>\n",
              "    </tr>\n",
              "    <tr>\n",
              "      <th>18</th>\n",
              "      <td>0.043175</td>\n",
              "      <td>(68)</td>\n",
              "    </tr>\n",
              "    <tr>\n",
              "      <th>19</th>\n",
              "      <td>0.039956</td>\n",
              "      <td>(69)</td>\n",
              "    </tr>\n",
              "    <tr>\n",
              "      <th>20</th>\n",
              "      <td>0.057827</td>\n",
              "      <td>(70)</td>\n",
              "    </tr>\n",
              "  </tbody>\n",
              "</table>\n",
              "</div>"
            ],
            "text/plain": [
              "     support itemsets\n",
              "0   0.040070      (5)\n",
              "1   0.029664      (6)\n",
              "2   0.096827      (7)\n",
              "3   0.068777     (15)\n",
              "4   0.010920     (16)\n",
              "5   0.037345     (20)\n",
              "6   0.026219     (27)\n",
              "7   0.019166     (28)\n",
              "8   0.066310     (40)\n",
              "9   0.036173     (43)\n",
              "10  0.090853     (44)\n",
              "11  0.060500     (50)\n",
              "12  0.010632     (53)\n",
              "13  0.013089     (57)\n",
              "14  0.032512     (59)\n",
              "15  0.017582     (60)\n",
              "16  0.079378     (65)\n",
              "17  0.023762     (66)\n",
              "18  0.043175     (68)\n",
              "19  0.039956     (69)\n",
              "20  0.057827     (70)"
            ]
          },
          "metadata": {
            "tags": []
          },
          "execution_count": 140
        }
      ]
    },
    {
      "cell_type": "markdown",
      "metadata": {
        "id": "0k7sZ_eMtJp7",
        "colab_type": "text"
      },
      "source": [
        "Observation 1: apriori returns a DataFrame with a support column and an itemsets column.\n",
        "\n",
        "Observation 2: By default apriori returns itemset numbers, rather than labels. We can change this by using the use_colnames parameter."
      ]
    },
    {
      "cell_type": "code",
      "metadata": {
        "id": "hbpc_LETtMbx",
        "colab_type": "code",
        "colab": {
          "base_uri": "https://localhost:8080/",
          "height": 1000
        },
        "outputId": "0c19fa9c-4e9e-4978-e006-00ba845293ae"
      },
      "source": [
        "#Apply apriori algorithm to data with min support threshold of 0.001\n",
        "frequent_itemsets = apriori(onehot, min_support = 0.001, use_colnames = True)\n",
        "\n",
        "frequent_itemsets"
      ],
      "execution_count": 141,
      "outputs": [
        {
          "output_type": "execute_result",
          "data": {
            "text/html": [
              "<div>\n",
              "<style scoped>\n",
              "    .dataframe tbody tr th:only-of-type {\n",
              "        vertical-align: middle;\n",
              "    }\n",
              "\n",
              "    .dataframe tbody tr th {\n",
              "        vertical-align: top;\n",
              "    }\n",
              "\n",
              "    .dataframe thead th {\n",
              "        text-align: right;\n",
              "    }\n",
              "</style>\n",
              "<table border=\"1\" class=\"dataframe\">\n",
              "  <thead>\n",
              "    <tr style=\"text-align: right;\">\n",
              "      <th></th>\n",
              "      <th>support</th>\n",
              "      <th>itemsets</th>\n",
              "    </tr>\n",
              "  </thead>\n",
              "  <tbody>\n",
              "    <tr>\n",
              "      <th>0</th>\n",
              "      <td>0.001871</td>\n",
              "      <td>(agro_industry_and_commerce)</td>\n",
              "    </tr>\n",
              "    <tr>\n",
              "      <th>1</th>\n",
              "      <td>0.002601</td>\n",
              "      <td>(air_conditioning)</td>\n",
              "    </tr>\n",
              "    <tr>\n",
              "      <th>2</th>\n",
              "      <td>0.002077</td>\n",
              "      <td>(art)</td>\n",
              "    </tr>\n",
              "    <tr>\n",
              "      <th>3</th>\n",
              "      <td>0.003599</td>\n",
              "      <td>(audio)</td>\n",
              "    </tr>\n",
              "    <tr>\n",
              "      <th>4</th>\n",
              "      <td>0.040070</td>\n",
              "      <td>(auto)</td>\n",
              "    </tr>\n",
              "    <tr>\n",
              "      <th>5</th>\n",
              "      <td>0.029664</td>\n",
              "      <td>(baby)</td>\n",
              "    </tr>\n",
              "    <tr>\n",
              "      <th>6</th>\n",
              "      <td>0.096827</td>\n",
              "      <td>(bed_bath_table)</td>\n",
              "    </tr>\n",
              "    <tr>\n",
              "      <th>7</th>\n",
              "      <td>0.005264</td>\n",
              "      <td>(books_general_interest)</td>\n",
              "    </tr>\n",
              "    <tr>\n",
              "      <th>8</th>\n",
              "      <td>0.002673</td>\n",
              "      <td>(books_technical)</td>\n",
              "    </tr>\n",
              "    <tr>\n",
              "      <th>9</th>\n",
              "      <td>0.001316</td>\n",
              "      <td>(christmas_supplies)</td>\n",
              "    </tr>\n",
              "    <tr>\n",
              "      <th>10</th>\n",
              "      <td>0.001861</td>\n",
              "      <td>(computers)</td>\n",
              "    </tr>\n",
              "    <tr>\n",
              "      <th>11</th>\n",
              "      <td>0.068777</td>\n",
              "      <td>(computers_accessories)</td>\n",
              "    </tr>\n",
              "    <tr>\n",
              "      <th>12</th>\n",
              "      <td>0.010920</td>\n",
              "      <td>(consoles_games)</td>\n",
              "    </tr>\n",
              "    <tr>\n",
              "      <th>13</th>\n",
              "      <td>0.007691</td>\n",
              "      <td>(construction_tools_construction)</td>\n",
              "    </tr>\n",
              "    <tr>\n",
              "      <th>14</th>\n",
              "      <td>0.002509</td>\n",
              "      <td>(construction_tools_lights)</td>\n",
              "    </tr>\n",
              "    <tr>\n",
              "      <th>15</th>\n",
              "      <td>0.001717</td>\n",
              "      <td>(construction_tools_safety)</td>\n",
              "    </tr>\n",
              "    <tr>\n",
              "      <th>16</th>\n",
              "      <td>0.037345</td>\n",
              "      <td>(cool_stuff)</td>\n",
              "    </tr>\n",
              "    <tr>\n",
              "      <th>17</th>\n",
              "      <td>0.001995</td>\n",
              "      <td>(costruction_tools_garden)</td>\n",
              "    </tr>\n",
              "    <tr>\n",
              "      <th>18</th>\n",
              "      <td>0.003054</td>\n",
              "      <td>(drinks)</td>\n",
              "    </tr>\n",
              "    <tr>\n",
              "      <th>19</th>\n",
              "      <td>0.026219</td>\n",
              "      <td>(electronics)</td>\n",
              "    </tr>\n",
              "    <tr>\n",
              "      <th>20</th>\n",
              "      <td>0.019166</td>\n",
              "      <td>(fashion_bags_accessories)</td>\n",
              "    </tr>\n",
              "    <tr>\n",
              "      <th>21</th>\n",
              "      <td>0.001152</td>\n",
              "      <td>(fashion_male_clothing)</td>\n",
              "    </tr>\n",
              "    <tr>\n",
              "      <th>22</th>\n",
              "      <td>0.002468</td>\n",
              "      <td>(fashion_shoes)</td>\n",
              "    </tr>\n",
              "    <tr>\n",
              "      <th>23</th>\n",
              "      <td>0.001244</td>\n",
              "      <td>(fashion_underwear_beach)</td>\n",
              "    </tr>\n",
              "    <tr>\n",
              "      <th>24</th>\n",
              "      <td>0.002231</td>\n",
              "      <td>(fixed_telephony)</td>\n",
              "    </tr>\n",
              "    <tr>\n",
              "      <th>25</th>\n",
              "      <td>0.004627</td>\n",
              "      <td>(food)</td>\n",
              "    </tr>\n",
              "    <tr>\n",
              "      <th>26</th>\n",
              "      <td>0.002334</td>\n",
              "      <td>(food_drink)</td>\n",
              "    </tr>\n",
              "    <tr>\n",
              "      <th>27</th>\n",
              "      <td>0.066310</td>\n",
              "      <td>(furniture_decor)</td>\n",
              "    </tr>\n",
              "    <tr>\n",
              "      <th>28</th>\n",
              "      <td>0.004339</td>\n",
              "      <td>(furniture_living_room)</td>\n",
              "    </tr>\n",
              "    <tr>\n",
              "      <th>29</th>\n",
              "      <td>0.036173</td>\n",
              "      <td>(garden_tools)</td>\n",
              "    </tr>\n",
              "    <tr>\n",
              "      <th>30</th>\n",
              "      <td>0.090853</td>\n",
              "      <td>(health_beauty)</td>\n",
              "    </tr>\n",
              "    <tr>\n",
              "      <th>31</th>\n",
              "      <td>0.007856</td>\n",
              "      <td>(home_appliances)</td>\n",
              "    </tr>\n",
              "    <tr>\n",
              "      <th>32</th>\n",
              "      <td>0.002406</td>\n",
              "      <td>(home_appliances_2)</td>\n",
              "    </tr>\n",
              "    <tr>\n",
              "      <th>33</th>\n",
              "      <td>0.004082</td>\n",
              "      <td>(home_comfort)</td>\n",
              "    </tr>\n",
              "    <tr>\n",
              "      <th>34</th>\n",
              "      <td>0.005038</td>\n",
              "      <td>(home_construction)</td>\n",
              "    </tr>\n",
              "    <tr>\n",
              "      <th>35</th>\n",
              "      <td>0.060500</td>\n",
              "      <td>(housewares)</td>\n",
              "    </tr>\n",
              "    <tr>\n",
              "      <th>36</th>\n",
              "      <td>0.002416</td>\n",
              "      <td>(industry_commerce_and_business)</td>\n",
              "    </tr>\n",
              "    <tr>\n",
              "      <th>37</th>\n",
              "      <td>0.002550</td>\n",
              "      <td>(kitchen_dining_laundry_garden_furniture)</td>\n",
              "    </tr>\n",
              "    <tr>\n",
              "      <th>38</th>\n",
              "      <td>0.010632</td>\n",
              "      <td>(luggage_accessories)</td>\n",
              "    </tr>\n",
              "    <tr>\n",
              "      <th>39</th>\n",
              "      <td>0.002879</td>\n",
              "      <td>(market_place)</td>\n",
              "    </tr>\n",
              "    <tr>\n",
              "      <th>40</th>\n",
              "      <td>0.006457</td>\n",
              "      <td>(musical_instruments)</td>\n",
              "    </tr>\n",
              "    <tr>\n",
              "      <th>41</th>\n",
              "      <td>0.013089</td>\n",
              "      <td>(office_furniture)</td>\n",
              "    </tr>\n",
              "    <tr>\n",
              "      <th>42</th>\n",
              "      <td>0.032512</td>\n",
              "      <td>(perfume)</td>\n",
              "    </tr>\n",
              "    <tr>\n",
              "      <th>43</th>\n",
              "      <td>0.017582</td>\n",
              "      <td>(pet_shop)</td>\n",
              "    </tr>\n",
              "    <tr>\n",
              "      <th>44</th>\n",
              "      <td>0.001439</td>\n",
              "      <td>(signaling_and_security)</td>\n",
              "    </tr>\n",
              "    <tr>\n",
              "      <th>45</th>\n",
              "      <td>0.006478</td>\n",
              "      <td>(small_appliances)</td>\n",
              "    </tr>\n",
              "    <tr>\n",
              "      <th>46</th>\n",
              "      <td>0.079378</td>\n",
              "      <td>(sports_leisure)</td>\n",
              "    </tr>\n",
              "    <tr>\n",
              "      <th>47</th>\n",
              "      <td>0.023762</td>\n",
              "      <td>(stationery)</td>\n",
              "    </tr>\n",
              "    <tr>\n",
              "      <th>48</th>\n",
              "      <td>0.043175</td>\n",
              "      <td>(telephony)</td>\n",
              "    </tr>\n",
              "    <tr>\n",
              "      <th>49</th>\n",
              "      <td>0.039956</td>\n",
              "      <td>(toys)</td>\n",
              "    </tr>\n",
              "    <tr>\n",
              "      <th>50</th>\n",
              "      <td>0.057827</td>\n",
              "      <td>(watches_gifts)</td>\n",
              "    </tr>\n",
              "    <tr>\n",
              "      <th>51</th>\n",
              "      <td>0.003218</td>\n",
              "      <td>(books)</td>\n",
              "    </tr>\n",
              "    <tr>\n",
              "      <th>52</th>\n",
              "      <td>0.002673</td>\n",
              "      <td>(books, books_technical)</td>\n",
              "    </tr>\n",
              "  </tbody>\n",
              "</table>\n",
              "</div>"
            ],
            "text/plain": [
              "     support                                   itemsets\n",
              "0   0.001871               (agro_industry_and_commerce)\n",
              "1   0.002601                         (air_conditioning)\n",
              "2   0.002077                                      (art)\n",
              "3   0.003599                                    (audio)\n",
              "4   0.040070                                     (auto)\n",
              "5   0.029664                                     (baby)\n",
              "6   0.096827                           (bed_bath_table)\n",
              "7   0.005264                   (books_general_interest)\n",
              "8   0.002673                          (books_technical)\n",
              "9   0.001316                       (christmas_supplies)\n",
              "10  0.001861                                (computers)\n",
              "11  0.068777                    (computers_accessories)\n",
              "12  0.010920                           (consoles_games)\n",
              "13  0.007691          (construction_tools_construction)\n",
              "14  0.002509                (construction_tools_lights)\n",
              "15  0.001717                (construction_tools_safety)\n",
              "16  0.037345                               (cool_stuff)\n",
              "17  0.001995                 (costruction_tools_garden)\n",
              "18  0.003054                                   (drinks)\n",
              "19  0.026219                              (electronics)\n",
              "20  0.019166                 (fashion_bags_accessories)\n",
              "21  0.001152                    (fashion_male_clothing)\n",
              "22  0.002468                            (fashion_shoes)\n",
              "23  0.001244                  (fashion_underwear_beach)\n",
              "24  0.002231                          (fixed_telephony)\n",
              "25  0.004627                                     (food)\n",
              "26  0.002334                               (food_drink)\n",
              "27  0.066310                          (furniture_decor)\n",
              "28  0.004339                    (furniture_living_room)\n",
              "29  0.036173                             (garden_tools)\n",
              "30  0.090853                            (health_beauty)\n",
              "31  0.007856                          (home_appliances)\n",
              "32  0.002406                        (home_appliances_2)\n",
              "33  0.004082                             (home_comfort)\n",
              "34  0.005038                        (home_construction)\n",
              "35  0.060500                               (housewares)\n",
              "36  0.002416           (industry_commerce_and_business)\n",
              "37  0.002550  (kitchen_dining_laundry_garden_furniture)\n",
              "38  0.010632                      (luggage_accessories)\n",
              "39  0.002879                             (market_place)\n",
              "40  0.006457                      (musical_instruments)\n",
              "41  0.013089                         (office_furniture)\n",
              "42  0.032512                                  (perfume)\n",
              "43  0.017582                                 (pet_shop)\n",
              "44  0.001439                   (signaling_and_security)\n",
              "45  0.006478                         (small_appliances)\n",
              "46  0.079378                           (sports_leisure)\n",
              "47  0.023762                               (stationery)\n",
              "48  0.043175                                (telephony)\n",
              "49  0.039956                                     (toys)\n",
              "50  0.057827                            (watches_gifts)\n",
              "51  0.003218                                    (books)\n",
              "52  0.002673                   (books, books_technical)"
            ]
          },
          "metadata": {
            "tags": []
          },
          "execution_count": 141
        }
      ]
    },
    {
      "cell_type": "markdown",
      "metadata": {
        "id": "xRo-wJFCtlah",
        "colab_type": "text"
      },
      "source": [
        "Lowering the support threshold increased the number of itemsets returned and even yielded itemsets with more than one item."
      ]
    },
    {
      "cell_type": "code",
      "metadata": {
        "id": "Z4lea8cmtqmx",
        "colab_type": "code",
        "colab": {
          "base_uri": "https://localhost:8080/",
          "height": 424
        },
        "outputId": "97bc135d-8763-4757-c089-ad3d0c15ac49"
      },
      "source": [
        "#Applu apriori algorithm to data with min support threshold of 0.00005\n",
        "frequent_itemsets = apriori(onehot, min_support = 0.00005, use_colnames = True)\n",
        "\n",
        "frequent_itemsets"
      ],
      "execution_count": 142,
      "outputs": [
        {
          "output_type": "execute_result",
          "data": {
            "text/html": [
              "<div>\n",
              "<style scoped>\n",
              "    .dataframe tbody tr th:only-of-type {\n",
              "        vertical-align: middle;\n",
              "    }\n",
              "\n",
              "    .dataframe tbody tr th {\n",
              "        vertical-align: top;\n",
              "    }\n",
              "\n",
              "    .dataframe thead th {\n",
              "        text-align: right;\n",
              "    }\n",
              "</style>\n",
              "<table border=\"1\" class=\"dataframe\">\n",
              "  <thead>\n",
              "    <tr style=\"text-align: right;\">\n",
              "      <th></th>\n",
              "      <th>support</th>\n",
              "      <th>itemsets</th>\n",
              "    </tr>\n",
              "  </thead>\n",
              "  <tbody>\n",
              "    <tr>\n",
              "      <th>0</th>\n",
              "      <td>0.001871</td>\n",
              "      <td>(agro_industry_and_commerce)</td>\n",
              "    </tr>\n",
              "    <tr>\n",
              "      <th>1</th>\n",
              "      <td>0.002601</td>\n",
              "      <td>(air_conditioning)</td>\n",
              "    </tr>\n",
              "    <tr>\n",
              "      <th>2</th>\n",
              "      <td>0.002077</td>\n",
              "      <td>(art)</td>\n",
              "    </tr>\n",
              "    <tr>\n",
              "      <th>3</th>\n",
              "      <td>0.000236</td>\n",
              "      <td>(arts_and_crafts)</td>\n",
              "    </tr>\n",
              "    <tr>\n",
              "      <th>4</th>\n",
              "      <td>0.003599</td>\n",
              "      <td>(audio)</td>\n",
              "    </tr>\n",
              "    <tr>\n",
              "      <th>...</th>\n",
              "      <td>...</td>\n",
              "      <td>...</td>\n",
              "    </tr>\n",
              "    <tr>\n",
              "      <th>104</th>\n",
              "      <td>0.000144</td>\n",
              "      <td>(health_beauty, sports_leisure)</td>\n",
              "    </tr>\n",
              "    <tr>\n",
              "      <th>105</th>\n",
              "      <td>0.000113</td>\n",
              "      <td>(housewares, sports_leisure)</td>\n",
              "    </tr>\n",
              "    <tr>\n",
              "      <th>106</th>\n",
              "      <td>0.000051</td>\n",
              "      <td>(stationery, luggage_accessories)</td>\n",
              "    </tr>\n",
              "    <tr>\n",
              "      <th>107</th>\n",
              "      <td>0.000051</td>\n",
              "      <td>(watches_gifts, sports_leisure)</td>\n",
              "    </tr>\n",
              "    <tr>\n",
              "      <th>108</th>\n",
              "      <td>0.000062</td>\n",
              "      <td>(toys, stationery)</td>\n",
              "    </tr>\n",
              "  </tbody>\n",
              "</table>\n",
              "<p>109 rows × 2 columns</p>\n",
              "</div>"
            ],
            "text/plain": [
              "      support                           itemsets\n",
              "0    0.001871       (agro_industry_and_commerce)\n",
              "1    0.002601                 (air_conditioning)\n",
              "2    0.002077                              (art)\n",
              "3    0.000236                  (arts_and_crafts)\n",
              "4    0.003599                            (audio)\n",
              "..        ...                                ...\n",
              "104  0.000144    (health_beauty, sports_leisure)\n",
              "105  0.000113       (housewares, sports_leisure)\n",
              "106  0.000051  (stationery, luggage_accessories)\n",
              "107  0.000051    (watches_gifts, sports_leisure)\n",
              "108  0.000062                 (toys, stationery)\n",
              "\n",
              "[109 rows x 2 columns]"
            ]
          },
          "metadata": {
            "tags": []
          },
          "execution_count": 142
        }
      ]
    },
    {
      "cell_type": "markdown",
      "metadata": {
        "id": "rqE7RE7TuCC8",
        "colab_type": "text"
      },
      "source": [
        "The support threshold (0.005%) must be very low to return a high number of itemsets with more than one item."
      ]
    },
    {
      "cell_type": "code",
      "metadata": {
        "id": "nS-OXVhxuMH-",
        "colab_type": "code",
        "colab": {}
      },
      "source": [
        "# Apply apriori algorithm to data with a two-item limit.\n",
        "frequent_itemsets = apriori(onehot, min_support = 0.00005, max_len = 2, use_colnames = True)"
      ],
      "execution_count": 143,
      "outputs": []
    },
    {
      "cell_type": "markdown",
      "metadata": {
        "id": "isbcVNOYuUM1",
        "colab_type": "text"
      },
      "source": [
        "\n",
        "Computing association rules from Apriori output\n",
        "\n",
        "    Use association_rules() to compute and prune association rules from output of apriori().\n",
        "\n"
      ]
    },
    {
      "cell_type": "code",
      "metadata": {
        "id": "yZl1qEPZuX1F",
        "colab_type": "code",
        "colab": {
          "base_uri": "https://localhost:8080/",
          "height": 206
        },
        "outputId": "0047fec6-56c1-4e11-ad18-e0a1e9124ced"
      },
      "source": [
        "#Recover association rules using support and a minimum threshold of 0.0001\n",
        "rules = association_rules(frequent_itemsets, metric = 'support', min_threshold = 0.0001)\n",
        "\n",
        "rules.head()"
      ],
      "execution_count": 144,
      "outputs": [
        {
          "output_type": "execute_result",
          "data": {
            "text/html": [
              "<div>\n",
              "<style scoped>\n",
              "    .dataframe tbody tr th:only-of-type {\n",
              "        vertical-align: middle;\n",
              "    }\n",
              "\n",
              "    .dataframe tbody tr th {\n",
              "        vertical-align: top;\n",
              "    }\n",
              "\n",
              "    .dataframe thead th {\n",
              "        text-align: right;\n",
              "    }\n",
              "</style>\n",
              "<table border=\"1\" class=\"dataframe\">\n",
              "  <thead>\n",
              "    <tr style=\"text-align: right;\">\n",
              "      <th></th>\n",
              "      <th>antecedents</th>\n",
              "      <th>consequents</th>\n",
              "      <th>antecedent support</th>\n",
              "      <th>consequent support</th>\n",
              "      <th>support</th>\n",
              "      <th>confidence</th>\n",
              "      <th>lift</th>\n",
              "      <th>leverage</th>\n",
              "      <th>conviction</th>\n",
              "    </tr>\n",
              "  </thead>\n",
              "  <tbody>\n",
              "    <tr>\n",
              "      <th>0</th>\n",
              "      <td>(bed_bath_table)</td>\n",
              "      <td>(baby)</td>\n",
              "      <td>0.096827</td>\n",
              "      <td>0.029664</td>\n",
              "      <td>0.000175</td>\n",
              "      <td>0.001805</td>\n",
              "      <td>0.060856</td>\n",
              "      <td>-0.002697</td>\n",
              "      <td>0.972091</td>\n",
              "    </tr>\n",
              "    <tr>\n",
              "      <th>1</th>\n",
              "      <td>(baby)</td>\n",
              "      <td>(bed_bath_table)</td>\n",
              "      <td>0.029664</td>\n",
              "      <td>0.096827</td>\n",
              "      <td>0.000175</td>\n",
              "      <td>0.005893</td>\n",
              "      <td>0.060856</td>\n",
              "      <td>-0.002697</td>\n",
              "      <td>0.908527</td>\n",
              "    </tr>\n",
              "    <tr>\n",
              "      <th>2</th>\n",
              "      <td>(cool_stuff)</td>\n",
              "      <td>(baby)</td>\n",
              "      <td>0.037345</td>\n",
              "      <td>0.029664</td>\n",
              "      <td>0.000206</td>\n",
              "      <td>0.005507</td>\n",
              "      <td>0.185633</td>\n",
              "      <td>-0.000902</td>\n",
              "      <td>0.975709</td>\n",
              "    </tr>\n",
              "    <tr>\n",
              "      <th>3</th>\n",
              "      <td>(baby)</td>\n",
              "      <td>(cool_stuff)</td>\n",
              "      <td>0.029664</td>\n",
              "      <td>0.037345</td>\n",
              "      <td>0.000206</td>\n",
              "      <td>0.006932</td>\n",
              "      <td>0.185633</td>\n",
              "      <td>-0.000902</td>\n",
              "      <td>0.969375</td>\n",
              "    </tr>\n",
              "    <tr>\n",
              "      <th>4</th>\n",
              "      <td>(furniture_decor)</td>\n",
              "      <td>(baby)</td>\n",
              "      <td>0.066310</td>\n",
              "      <td>0.029664</td>\n",
              "      <td>0.000123</td>\n",
              "      <td>0.001861</td>\n",
              "      <td>0.062728</td>\n",
              "      <td>-0.001844</td>\n",
              "      <td>0.972145</td>\n",
              "    </tr>\n",
              "  </tbody>\n",
              "</table>\n",
              "</div>"
            ],
            "text/plain": [
              "         antecedents       consequents  ...  leverage  conviction\n",
              "0   (bed_bath_table)            (baby)  ... -0.002697    0.972091\n",
              "1             (baby)  (bed_bath_table)  ... -0.002697    0.908527\n",
              "2       (cool_stuff)            (baby)  ... -0.000902    0.975709\n",
              "3             (baby)      (cool_stuff)  ... -0.000902    0.969375\n",
              "4  (furniture_decor)            (baby)  ... -0.001844    0.972145\n",
              "\n",
              "[5 rows x 9 columns]"
            ]
          },
          "metadata": {
            "tags": []
          },
          "execution_count": 144
        }
      ]
    },
    {
      "cell_type": "markdown",
      "metadata": {
        "id": "0F-8chtzu_TS",
        "colab_type": "text"
      },
      "source": [
        "\n",
        "Pruning association rules"
      ]
    },
    {
      "cell_type": "code",
      "metadata": {
        "id": "3TFc24nYvCwd",
        "colab_type": "code",
        "colab": {
          "base_uri": "https://localhost:8080/",
          "height": 457
        },
        "outputId": "4a016279-37f4-4d11-ff8f-d1832b80e9a6"
      },
      "source": [
        "#Recover association rules using confidence threshold of 0.01\n",
        "rules = association_rules(frequent_itemsets, metric = 'confidence', min_threshold = 0.01)\n",
        "\n",
        "rules"
      ],
      "execution_count": 147,
      "outputs": [
        {
          "output_type": "execute_result",
          "data": {
            "text/html": [
              "<div>\n",
              "<style scoped>\n",
              "    .dataframe tbody tr th:only-of-type {\n",
              "        vertical-align: middle;\n",
              "    }\n",
              "\n",
              "    .dataframe tbody tr th {\n",
              "        vertical-align: top;\n",
              "    }\n",
              "\n",
              "    .dataframe thead th {\n",
              "        text-align: right;\n",
              "    }\n",
              "</style>\n",
              "<table border=\"1\" class=\"dataframe\">\n",
              "  <thead>\n",
              "    <tr style=\"text-align: right;\">\n",
              "      <th></th>\n",
              "      <th>antecedents</th>\n",
              "      <th>consequents</th>\n",
              "      <th>antecedent support</th>\n",
              "      <th>consequent support</th>\n",
              "      <th>support</th>\n",
              "      <th>confidence</th>\n",
              "      <th>lift</th>\n",
              "      <th>leverage</th>\n",
              "      <th>conviction</th>\n",
              "    </tr>\n",
              "  </thead>\n",
              "  <tbody>\n",
              "    <tr>\n",
              "      <th>0</th>\n",
              "      <td>(art)</td>\n",
              "      <td>(furniture_decor)</td>\n",
              "      <td>0.002077</td>\n",
              "      <td>0.066310</td>\n",
              "      <td>0.000051</td>\n",
              "      <td>0.024752</td>\n",
              "      <td>0.373287</td>\n",
              "      <td>-0.000086</td>\n",
              "      <td>0.957388</td>\n",
              "    </tr>\n",
              "    <tr>\n",
              "      <th>1</th>\n",
              "      <td>(audio)</td>\n",
              "      <td>(watches_gifts)</td>\n",
              "      <td>0.003599</td>\n",
              "      <td>0.057827</td>\n",
              "      <td>0.000062</td>\n",
              "      <td>0.017143</td>\n",
              "      <td>0.296452</td>\n",
              "      <td>-0.000146</td>\n",
              "      <td>0.958606</td>\n",
              "    </tr>\n",
              "    <tr>\n",
              "      <th>2</th>\n",
              "      <td>(furniture_decor)</td>\n",
              "      <td>(bed_bath_table)</td>\n",
              "      <td>0.066310</td>\n",
              "      <td>0.096827</td>\n",
              "      <td>0.000720</td>\n",
              "      <td>0.010854</td>\n",
              "      <td>0.112101</td>\n",
              "      <td>-0.005701</td>\n",
              "      <td>0.913084</td>\n",
              "    </tr>\n",
              "    <tr>\n",
              "      <th>3</th>\n",
              "      <td>(home_comfort)</td>\n",
              "      <td>(bed_bath_table)</td>\n",
              "      <td>0.004082</td>\n",
              "      <td>0.096827</td>\n",
              "      <td>0.000442</td>\n",
              "      <td>0.108312</td>\n",
              "      <td>1.118618</td>\n",
              "      <td>0.000047</td>\n",
              "      <td>1.012881</td>\n",
              "    </tr>\n",
              "    <tr>\n",
              "      <th>4</th>\n",
              "      <td>(books_imported)</td>\n",
              "      <td>(books)</td>\n",
              "      <td>0.000545</td>\n",
              "      <td>0.003218</td>\n",
              "      <td>0.000545</td>\n",
              "      <td>1.000000</td>\n",
              "      <td>310.722045</td>\n",
              "      <td>0.000543</td>\n",
              "      <td>inf</td>\n",
              "    </tr>\n",
              "    <tr>\n",
              "      <th>5</th>\n",
              "      <td>(books)</td>\n",
              "      <td>(books_imported)</td>\n",
              "      <td>0.003218</td>\n",
              "      <td>0.000545</td>\n",
              "      <td>0.000545</td>\n",
              "      <td>0.169329</td>\n",
              "      <td>310.722045</td>\n",
              "      <td>0.000543</td>\n",
              "      <td>1.203190</td>\n",
              "    </tr>\n",
              "    <tr>\n",
              "      <th>6</th>\n",
              "      <td>(books)</td>\n",
              "      <td>(books_technical)</td>\n",
              "      <td>0.003218</td>\n",
              "      <td>0.002673</td>\n",
              "      <td>0.002673</td>\n",
              "      <td>0.830671</td>\n",
              "      <td>310.722045</td>\n",
              "      <td>0.002665</td>\n",
              "      <td>5.889872</td>\n",
              "    </tr>\n",
              "    <tr>\n",
              "      <th>7</th>\n",
              "      <td>(books_technical)</td>\n",
              "      <td>(books)</td>\n",
              "      <td>0.002673</td>\n",
              "      <td>0.003218</td>\n",
              "      <td>0.002673</td>\n",
              "      <td>1.000000</td>\n",
              "      <td>310.722045</td>\n",
              "      <td>0.002665</td>\n",
              "      <td>inf</td>\n",
              "    </tr>\n",
              "    <tr>\n",
              "      <th>8</th>\n",
              "      <td>(construction_tools_lights)</td>\n",
              "      <td>(furniture_decor)</td>\n",
              "      <td>0.002509</td>\n",
              "      <td>0.066310</td>\n",
              "      <td>0.000113</td>\n",
              "      <td>0.045082</td>\n",
              "      <td>0.679872</td>\n",
              "      <td>-0.000053</td>\n",
              "      <td>0.977770</td>\n",
              "    </tr>\n",
              "    <tr>\n",
              "      <th>9</th>\n",
              "      <td>(furniture_living_room)</td>\n",
              "      <td>(furniture_decor)</td>\n",
              "      <td>0.004339</td>\n",
              "      <td>0.066310</td>\n",
              "      <td>0.000072</td>\n",
              "      <td>0.016588</td>\n",
              "      <td>0.250155</td>\n",
              "      <td>-0.000216</td>\n",
              "      <td>0.949439</td>\n",
              "    </tr>\n",
              "    <tr>\n",
              "      <th>10</th>\n",
              "      <td>(home_comfort)</td>\n",
              "      <td>(furniture_decor)</td>\n",
              "      <td>0.004082</td>\n",
              "      <td>0.066310</td>\n",
              "      <td>0.000062</td>\n",
              "      <td>0.015113</td>\n",
              "      <td>0.227921</td>\n",
              "      <td>-0.000209</td>\n",
              "      <td>0.948018</td>\n",
              "    </tr>\n",
              "    <tr>\n",
              "      <th>11</th>\n",
              "      <td>(home_construction)</td>\n",
              "      <td>(furniture_decor)</td>\n",
              "      <td>0.005038</td>\n",
              "      <td>0.066310</td>\n",
              "      <td>0.000134</td>\n",
              "      <td>0.026531</td>\n",
              "      <td>0.400103</td>\n",
              "      <td>-0.000200</td>\n",
              "      <td>0.959137</td>\n",
              "    </tr>\n",
              "    <tr>\n",
              "      <th>12</th>\n",
              "      <td>(home_construction)</td>\n",
              "      <td>(garden_tools)</td>\n",
              "      <td>0.005038</td>\n",
              "      <td>0.036173</td>\n",
              "      <td>0.000072</td>\n",
              "      <td>0.014286</td>\n",
              "      <td>0.394932</td>\n",
              "      <td>-0.000110</td>\n",
              "      <td>0.977796</td>\n",
              "    </tr>\n",
              "  </tbody>\n",
              "</table>\n",
              "</div>"
            ],
            "text/plain": [
              "                    antecedents        consequents  ...  leverage  conviction\n",
              "0                         (art)  (furniture_decor)  ... -0.000086    0.957388\n",
              "1                       (audio)    (watches_gifts)  ... -0.000146    0.958606\n",
              "2             (furniture_decor)   (bed_bath_table)  ... -0.005701    0.913084\n",
              "3                (home_comfort)   (bed_bath_table)  ...  0.000047    1.012881\n",
              "4              (books_imported)            (books)  ...  0.000543         inf\n",
              "5                       (books)   (books_imported)  ...  0.000543    1.203190\n",
              "6                       (books)  (books_technical)  ...  0.002665    5.889872\n",
              "7             (books_technical)            (books)  ...  0.002665         inf\n",
              "8   (construction_tools_lights)  (furniture_decor)  ... -0.000053    0.977770\n",
              "9       (furniture_living_room)  (furniture_decor)  ... -0.000216    0.949439\n",
              "10               (home_comfort)  (furniture_decor)  ... -0.000209    0.948018\n",
              "11          (home_construction)  (furniture_decor)  ... -0.000200    0.959137\n",
              "12          (home_construction)     (garden_tools)  ... -0.000110    0.977796\n",
              "\n",
              "[13 rows x 9 columns]"
            ]
          },
          "metadata": {
            "tags": []
          },
          "execution_count": 147
        }
      ]
    },
    {
      "cell_type": "code",
      "metadata": {
        "id": "TMsXp4YvwN8V",
        "colab_type": "code",
        "colab": {
          "base_uri": "https://localhost:8080/",
          "height": 112
        },
        "outputId": "caba25c9-e41a-4816-c8a2-1c3ad87e5e92"
      },
      "source": [
        "#Select rules with a consequent support above 0.095\n",
        "rules = rules[rules['consequent support'] > 0.095]\n",
        "\n",
        "rules"
      ],
      "execution_count": 148,
      "outputs": [
        {
          "output_type": "execute_result",
          "data": {
            "text/html": [
              "<div>\n",
              "<style scoped>\n",
              "    .dataframe tbody tr th:only-of-type {\n",
              "        vertical-align: middle;\n",
              "    }\n",
              "\n",
              "    .dataframe tbody tr th {\n",
              "        vertical-align: top;\n",
              "    }\n",
              "\n",
              "    .dataframe thead th {\n",
              "        text-align: right;\n",
              "    }\n",
              "</style>\n",
              "<table border=\"1\" class=\"dataframe\">\n",
              "  <thead>\n",
              "    <tr style=\"text-align: right;\">\n",
              "      <th></th>\n",
              "      <th>antecedents</th>\n",
              "      <th>consequents</th>\n",
              "      <th>antecedent support</th>\n",
              "      <th>consequent support</th>\n",
              "      <th>support</th>\n",
              "      <th>confidence</th>\n",
              "      <th>lift</th>\n",
              "      <th>leverage</th>\n",
              "      <th>conviction</th>\n",
              "    </tr>\n",
              "  </thead>\n",
              "  <tbody>\n",
              "    <tr>\n",
              "      <th>2</th>\n",
              "      <td>(furniture_decor)</td>\n",
              "      <td>(bed_bath_table)</td>\n",
              "      <td>0.066310</td>\n",
              "      <td>0.096827</td>\n",
              "      <td>0.000720</td>\n",
              "      <td>0.010854</td>\n",
              "      <td>0.112101</td>\n",
              "      <td>-0.005701</td>\n",
              "      <td>0.913084</td>\n",
              "    </tr>\n",
              "    <tr>\n",
              "      <th>3</th>\n",
              "      <td>(home_comfort)</td>\n",
              "      <td>(bed_bath_table)</td>\n",
              "      <td>0.004082</td>\n",
              "      <td>0.096827</td>\n",
              "      <td>0.000442</td>\n",
              "      <td>0.108312</td>\n",
              "      <td>1.118618</td>\n",
              "      <td>0.000047</td>\n",
              "      <td>1.012881</td>\n",
              "    </tr>\n",
              "  </tbody>\n",
              "</table>\n",
              "</div>"
            ],
            "text/plain": [
              "         antecedents       consequents  ...  leverage  conviction\n",
              "2  (furniture_decor)  (bed_bath_table)  ... -0.005701    0.913084\n",
              "3     (home_comfort)  (bed_bath_table)  ...  0.000047    1.012881\n",
              "\n",
              "[2 rows x 9 columns]"
            ]
          },
          "metadata": {
            "tags": []
          },
          "execution_count": 148
        }
      ]
    },
    {
      "cell_type": "markdown",
      "metadata": {
        "id": "klzgQTzWwq1R",
        "colab_type": "text"
      },
      "source": [
        "\n",
        "The leverage metric\n",
        "\n",
        "    Leverage provides a sanity check.\n",
        "        $support(antecedent, consequent)$ = joint support in data.\n",
        "        $support(antecedent) * support(consequent)$ = expected joint support for unrelated antecedent and consequent.\n",
        "\n",
        "    Leverage formula\n",
        "        $$leverage(antecendent, consequent) = support(antecedent, consequent) - support(antecedent) * support(consequent)$$\n",
        "\n",
        "    For most problems, we will discard itemsets with negative leverage."
      ]
    },
    {
      "cell_type": "code",
      "metadata": {
        "id": "IT8gWPQ2wsF8",
        "colab_type": "code",
        "colab": {
          "base_uri": "https://localhost:8080/",
          "height": 81
        },
        "outputId": "5b343577-b3ca-45f5-fc3f-70a9ad9f2a4f"
      },
      "source": [
        "#Select rules with leverage higher than 0.0\n",
        "rules = rules[rules['leverage'] > 0.0]\n",
        "\n",
        "rules"
      ],
      "execution_count": 149,
      "outputs": [
        {
          "output_type": "execute_result",
          "data": {
            "text/html": [
              "<div>\n",
              "<style scoped>\n",
              "    .dataframe tbody tr th:only-of-type {\n",
              "        vertical-align: middle;\n",
              "    }\n",
              "\n",
              "    .dataframe tbody tr th {\n",
              "        vertical-align: top;\n",
              "    }\n",
              "\n",
              "    .dataframe thead th {\n",
              "        text-align: right;\n",
              "    }\n",
              "</style>\n",
              "<table border=\"1\" class=\"dataframe\">\n",
              "  <thead>\n",
              "    <tr style=\"text-align: right;\">\n",
              "      <th></th>\n",
              "      <th>antecedents</th>\n",
              "      <th>consequents</th>\n",
              "      <th>antecedent support</th>\n",
              "      <th>consequent support</th>\n",
              "      <th>support</th>\n",
              "      <th>confidence</th>\n",
              "      <th>lift</th>\n",
              "      <th>leverage</th>\n",
              "      <th>conviction</th>\n",
              "    </tr>\n",
              "  </thead>\n",
              "  <tbody>\n",
              "    <tr>\n",
              "      <th>3</th>\n",
              "      <td>(home_comfort)</td>\n",
              "      <td>(bed_bath_table)</td>\n",
              "      <td>0.004082</td>\n",
              "      <td>0.096827</td>\n",
              "      <td>0.000442</td>\n",
              "      <td>0.108312</td>\n",
              "      <td>1.118618</td>\n",
              "      <td>0.000047</td>\n",
              "      <td>1.012881</td>\n",
              "    </tr>\n",
              "  </tbody>\n",
              "</table>\n",
              "</div>"
            ],
            "text/plain": [
              "      antecedents       consequents  ...  leverage  conviction\n",
              "3  (home_comfort)  (bed_bath_table)  ...  0.000047    1.012881\n",
              "\n",
              "[1 rows x 9 columns]"
            ]
          },
          "metadata": {
            "tags": []
          },
          "execution_count": 149
        }
      ]
    },
    {
      "cell_type": "markdown",
      "metadata": {
        "id": "O3u6nUjNxDHy",
        "colab_type": "text"
      },
      "source": [
        "The Apriori algorithm reduced the number of itemsets from $2^{71}$ to 113. Pruning allowed to identify to a single association rule that could be useful for cross-promotional purposes: $\\{home\\_comfort\\} \\rightarrow \\{bed\\_bath\\_table\\}$."
      ]
    },
    {
      "cell_type": "markdown",
      "metadata": {
        "id": "3mXtWLRjxT8q",
        "colab_type": "text"
      },
      "source": [
        "\n",
        "Visualizing patterns in metrics\n",
        "\n",
        "    sns.scatterplot() creates a scatterplot from two columns in a DataFrame.\n",
        "\n"
      ]
    },
    {
      "cell_type": "code",
      "metadata": {
        "id": "6iESNgO9xL6H",
        "colab_type": "code",
        "colab": {
          "base_uri": "https://localhost:8080/",
          "height": 356
        },
        "outputId": "c5ccc1b1-fd96-4518-be8b-a18ca608cd68"
      },
      "source": [
        "#Recover association rules with a minimum support greater than 0.000001\n",
        "rules = association_rules(frequent_itemsets, metric = 'support', min_threshold = 0.000001)\n",
        "\n",
        "#Plot leverage against confidence\n",
        "plt.figure(figsize=(15,5))\n",
        "sns.scatterplot(x='leverage', y='confidence', data=rules)"
      ],
      "execution_count": 151,
      "outputs": [
        {
          "output_type": "execute_result",
          "data": {
            "text/plain": [
              "<matplotlib.axes._subplots.AxesSubplot at 0x7fc43eb96940>"
            ]
          },
          "metadata": {
            "tags": []
          },
          "execution_count": 151
        },
        {
          "output_type": "display_data",
          "data": {
            "image/png": "[encoded data removed]",
            "text/plain": [
              "<Figure size 1080x360 with 1 Axes>"
            ]
          },
          "metadata": {
            "tags": []
          }
        }
      ]
    }
  ]
}